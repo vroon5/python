{
 "cells": [
  {
   "cell_type": "markdown",
   "metadata": {},
   "source": [
    "## Analysis of Open University Data"
   ]
  },
  {
   "cell_type": "code",
   "execution_count": 2,
   "metadata": {
    "collapsed": true
   },
   "outputs": [],
   "source": [
    "import pandas as pd\n",
    "import matplotlib.pyplot as plt"
   ]
  },
  {
   "cell_type": "code",
   "execution_count": 3,
   "metadata": {
    "collapsed": true
   },
   "outputs": [],
   "source": [
    "assessments_df=pd.read_csv('OULAD/assessments.csv')\n",
    "courses_df=pd.read_csv('OULAD/courses.csv')\n",
    "studentAssessment_df=pd.read_csv('OULAD/studentAssessment.csv')\n",
    "studentInfo_df=pd.read_csv('OULAD/studentInfo.csv')\n",
    "studentRegistration_df=pd.read_csv('OULAD/studentRegistration.csv')\n",
    "studentvle_df=pd.read_csv('OULAD/studentvle.csv')\n",
    "vle_df=pd.read_csv('OULAD/vle.csv')"
   ]
  },
  {
   "cell_type": "markdown",
   "metadata": {},
   "source": [
    "### Analyzing student results based on number of credits registered for"
   ]
  },
  {
   "cell_type": "code",
   "execution_count": 4,
   "metadata": {
    "collapsed": true
   },
   "outputs": [],
   "source": [
    "#Joining assessment and course data\n",
    "ass_course_df=pd.merge(assessments_df,courses_df,how='left',on=['code_module','code_presentation'])"
   ]
  },
  {
   "cell_type": "code",
   "execution_count": 5,
   "metadata": {
    "collapsed": true
   },
   "outputs": [],
   "source": [
    "#joining existing data with the student assessment data\n",
    "studass_ass_course_df=pd.merge(studentAssessment_df,ass_course_df,how='left',on='id_assessment')"
   ]
  },
  {
   "cell_type": "code",
   "execution_count": 6,
   "metadata": {
    "collapsed": true
   },
   "outputs": [],
   "source": [
    "#combining this data with the student information data\n",
    "info_studass_ass_course_df=pd.merge(studass_ass_course_df,studentInfo_df,how='left',on=['code_module','code_presentation','id_student'])\n"
   ]
  },
  {
   "cell_type": "code",
   "execution_count": 7,
   "metadata": {
    "collapsed": true
   },
   "outputs": [],
   "source": [
    "#Creating bins of student credits enrolled to identify trends in final result based on credits enrolled\n",
    "studentInfo_df['bin'] = pd.cut(studentInfo_df['studied_credits'], [0,100,300,700,1000], labels=['0-100','100-300','300-700','Above 700'])"
   ]
  },
  {
   "cell_type": "code",
   "execution_count": 8,
   "metadata": {
    "collapsed": true
   },
   "outputs": [],
   "source": [
    "studentVle_df7=studentInfo_df.groupby('bin')['bin'].agg({'count'}).reset_index()"
   ]
  },
  {
   "cell_type": "code",
   "execution_count": 9,
   "metadata": {
    "collapsed": true
   },
   "outputs": [],
   "source": [
    "studentVle_df6=studentInfo_df.groupby(['bin', 'final_result'])['final_result'].agg({'count'}).reset_index()\n"
   ]
  },
  {
   "cell_type": "code",
   "execution_count": 14,
   "metadata": {
    "collapsed": true
   },
   "outputs": [],
   "source": [
    "studentVle_df8=pd.merge(studentVle_df6,studentVle_df7,how='left',on='bin')"
   ]
  },
  {
   "cell_type": "code",
   "execution_count": 15,
   "metadata": {
    "collapsed": true
   },
   "outputs": [],
   "source": [
    "#Calculating percentage of people in each category who fall in the each total result\n",
    "studentVle_df8['Percent of total']=(studentVle_df8['count_x']/studentVle_df8['count_y'])*100"
   ]
  },
  {
   "cell_type": "code",
   "execution_count": 17,
   "metadata": {
    "collapsed": false
   },
   "outputs": [
    {
     "data": {
      "text/html": [
       "<div>\n",
       "<style>\n",
       "    .dataframe thead tr:only-child th {\n",
       "        text-align: right;\n",
       "    }\n",
       "\n",
       "    .dataframe thead th {\n",
       "        text-align: left;\n",
       "    }\n",
       "\n",
       "    .dataframe tbody tr th {\n",
       "        vertical-align: top;\n",
       "    }\n",
       "</style>\n",
       "<table border=\"1\" class=\"dataframe\">\n",
       "  <thead>\n",
       "    <tr style=\"text-align: right;\">\n",
       "      <th></th>\n",
       "      <th>bin</th>\n",
       "      <th>final_result</th>\n",
       "      <th>count_x</th>\n",
       "      <th>count_y</th>\n",
       "      <th>Percent of total</th>\n",
       "    </tr>\n",
       "  </thead>\n",
       "  <tbody>\n",
       "    <tr>\n",
       "      <th>0</th>\n",
       "      <td>0-100</td>\n",
       "      <td>Distinction</td>\n",
       "      <td>2409</td>\n",
       "      <td>23980</td>\n",
       "      <td>10.045872</td>\n",
       "    </tr>\n",
       "    <tr>\n",
       "      <th>1</th>\n",
       "      <td>0-100</td>\n",
       "      <td>Fail</td>\n",
       "      <td>5399</td>\n",
       "      <td>23980</td>\n",
       "      <td>22.514595</td>\n",
       "    </tr>\n",
       "    <tr>\n",
       "      <th>2</th>\n",
       "      <td>0-100</td>\n",
       "      <td>Pass</td>\n",
       "      <td>9737</td>\n",
       "      <td>23980</td>\n",
       "      <td>40.604671</td>\n",
       "    </tr>\n",
       "    <tr>\n",
       "      <th>3</th>\n",
       "      <td>0-100</td>\n",
       "      <td>Withdrawn</td>\n",
       "      <td>6435</td>\n",
       "      <td>23980</td>\n",
       "      <td>26.834862</td>\n",
       "    </tr>\n",
       "    <tr>\n",
       "      <th>4</th>\n",
       "      <td>100-300</td>\n",
       "      <td>Distinction</td>\n",
       "      <td>614</td>\n",
       "      <td>8578</td>\n",
       "      <td>7.157846</td>\n",
       "    </tr>\n",
       "  </tbody>\n",
       "</table>\n",
       "</div>"
      ],
      "text/plain": [
       "       bin final_result  count_x  count_y  Percent of total\n",
       "0    0-100  Distinction     2409    23980         10.045872\n",
       "1    0-100         Fail     5399    23980         22.514595\n",
       "2    0-100         Pass     9737    23980         40.604671\n",
       "3    0-100    Withdrawn     6435    23980         26.834862\n",
       "4  100-300  Distinction      614     8578          7.157846"
      ]
     },
     "execution_count": 17,
     "metadata": {},
     "output_type": "execute_result"
    }
   ],
   "source": [
    "studentVle_df8.head()"
   ]
  },
  {
   "cell_type": "code",
   "execution_count": 19,
   "metadata": {
    "collapsed": false
   },
   "outputs": [
    {
     "data": {
      "text/plain": [
       "<matplotlib.text.Text at 0x10ce07eb8>"
      ]
     },
     "execution_count": 19,
     "metadata": {},
     "output_type": "execute_result"
    },
    {
     "data": {
      "image/png": "[encoded data removed]",
      "text/plain": [
       "<matplotlib.figure.Figure at 0x1118312e8>"
      ]
     },
     "metadata": {},
     "output_type": "display_data"
    }
   ],
   "source": [
    "fig, ax = plt.subplots(figsize=(15,7))\n",
    "studentVle_df8.groupby(['bin','final_result']).sum()['Percent of total'].unstack().plot(ax=ax)\n",
    "ax.set_xlabel('Students credits enrolled (Bins)')\n",
    "ax.set_ylabel('Percent of students')"
   ]
  },
  {
   "cell_type": "markdown",
   "metadata": {},
   "source": [
    "### We notice that as the number of credits the student enrolls increases, we find significant increase in withdrawl rates. We also notice slight decrease in pass rates of students"
   ]
  },
  {
   "cell_type": "markdown",
   "metadata": {},
   "source": [
    "## Next we need to understand the pass, fail and withdrawl rate distrubution among courses"
   ]
  },
  {
   "cell_type": "code",
   "execution_count": 24,
   "metadata": {
    "collapsed": true
   },
   "outputs": [],
   "source": [
    "code_module_count=studentInfo_df.groupby(['code_module','final_result']).agg({'code_presentation':'count'}).reset_index()"
   ]
  },
  {
   "cell_type": "code",
   "execution_count": 25,
   "metadata": {
    "collapsed": true
   },
   "outputs": [],
   "source": [
    "code_module_total=studentInfo_df.groupby('code_module').agg({'code_presentation':'count'}).reset_index()"
   ]
  },
  {
   "cell_type": "code",
   "execution_count": 26,
   "metadata": {
    "collapsed": true
   },
   "outputs": [],
   "source": [
    "code_module_total_percent=pd.merge(code_module_count,code_module_total,how='left',on=['code_module'])"
   ]
  },
  {
   "cell_type": "code",
   "execution_count": 28,
   "metadata": {
    "collapsed": true
   },
   "outputs": [],
   "source": [
    "code_module_total_percent['percent_of_total']=(code_module_total_percent['code_presentation_x']/code_module_total_percent['code_presentation_y'])*100"
   ]
  },
  {
   "cell_type": "code",
   "execution_count": 29,
   "metadata": {
    "collapsed": true
   },
   "outputs": [],
   "source": [
    "#Sorting the number of people in each 'final_result' for each code module\n",
    "code_module_total_percent_sort=code_module_total_percent.sort_values(['code_module','percent_of_total'],ascending=[True,False])"
   ]
  },
  {
   "cell_type": "code",
   "execution_count": 36,
   "metadata": {
    "collapsed": false
   },
   "outputs": [
    {
     "data": {
      "text/html": [
       "<div>\n",
       "<style>\n",
       "    .dataframe thead tr:only-child th {\n",
       "        text-align: right;\n",
       "    }\n",
       "\n",
       "    .dataframe thead th {\n",
       "        text-align: left;\n",
       "    }\n",
       "\n",
       "    .dataframe tbody tr th {\n",
       "        vertical-align: top;\n",
       "    }\n",
       "</style>\n",
       "<table border=\"1\" class=\"dataframe\">\n",
       "  <thead>\n",
       "    <tr style=\"text-align: right;\">\n",
       "      <th></th>\n",
       "      <th>code_module</th>\n",
       "      <th>final_result</th>\n",
       "      <th>code_presentation_x</th>\n",
       "      <th>code_presentation_y</th>\n",
       "      <th>percent_of_total</th>\n",
       "    </tr>\n",
       "  </thead>\n",
       "  <tbody>\n",
       "    <tr>\n",
       "      <th>2</th>\n",
       "      <td>AAA</td>\n",
       "      <td>Pass</td>\n",
       "      <td>487</td>\n",
       "      <td>748</td>\n",
       "      <td>65.106952</td>\n",
       "    </tr>\n",
       "    <tr>\n",
       "      <th>3</th>\n",
       "      <td>AAA</td>\n",
       "      <td>Withdrawn</td>\n",
       "      <td>126</td>\n",
       "      <td>748</td>\n",
       "      <td>16.844920</td>\n",
       "    </tr>\n",
       "    <tr>\n",
       "      <th>1</th>\n",
       "      <td>AAA</td>\n",
       "      <td>Fail</td>\n",
       "      <td>91</td>\n",
       "      <td>748</td>\n",
       "      <td>12.165775</td>\n",
       "    </tr>\n",
       "    <tr>\n",
       "      <th>0</th>\n",
       "      <td>AAA</td>\n",
       "      <td>Distinction</td>\n",
       "      <td>44</td>\n",
       "      <td>748</td>\n",
       "      <td>5.882353</td>\n",
       "    </tr>\n",
       "    <tr>\n",
       "      <th>6</th>\n",
       "      <td>BBB</td>\n",
       "      <td>Pass</td>\n",
       "      <td>3077</td>\n",
       "      <td>7909</td>\n",
       "      <td>38.905045</td>\n",
       "    </tr>\n",
       "    <tr>\n",
       "      <th>7</th>\n",
       "      <td>BBB</td>\n",
       "      <td>Withdrawn</td>\n",
       "      <td>2388</td>\n",
       "      <td>7909</td>\n",
       "      <td>30.193450</td>\n",
       "    </tr>\n",
       "    <tr>\n",
       "      <th>5</th>\n",
       "      <td>BBB</td>\n",
       "      <td>Fail</td>\n",
       "      <td>1767</td>\n",
       "      <td>7909</td>\n",
       "      <td>22.341636</td>\n",
       "    </tr>\n",
       "    <tr>\n",
       "      <th>4</th>\n",
       "      <td>BBB</td>\n",
       "      <td>Distinction</td>\n",
       "      <td>677</td>\n",
       "      <td>7909</td>\n",
       "      <td>8.559869</td>\n",
       "    </tr>\n",
       "    <tr>\n",
       "      <th>11</th>\n",
       "      <td>CCC</td>\n",
       "      <td>Withdrawn</td>\n",
       "      <td>1975</td>\n",
       "      <td>4434</td>\n",
       "      <td>44.542174</td>\n",
       "    </tr>\n",
       "    <tr>\n",
       "      <th>10</th>\n",
       "      <td>CCC</td>\n",
       "      <td>Pass</td>\n",
       "      <td>1180</td>\n",
       "      <td>4434</td>\n",
       "      <td>26.612539</td>\n",
       "    </tr>\n",
       "    <tr>\n",
       "      <th>9</th>\n",
       "      <td>CCC</td>\n",
       "      <td>Fail</td>\n",
       "      <td>781</td>\n",
       "      <td>4434</td>\n",
       "      <td>17.613893</td>\n",
       "    </tr>\n",
       "    <tr>\n",
       "      <th>8</th>\n",
       "      <td>CCC</td>\n",
       "      <td>Distinction</td>\n",
       "      <td>498</td>\n",
       "      <td>4434</td>\n",
       "      <td>11.231394</td>\n",
       "    </tr>\n",
       "    <tr>\n",
       "      <th>15</th>\n",
       "      <td>DDD</td>\n",
       "      <td>Withdrawn</td>\n",
       "      <td>2250</td>\n",
       "      <td>6272</td>\n",
       "      <td>35.873724</td>\n",
       "    </tr>\n",
       "    <tr>\n",
       "      <th>14</th>\n",
       "      <td>DDD</td>\n",
       "      <td>Pass</td>\n",
       "      <td>2227</td>\n",
       "      <td>6272</td>\n",
       "      <td>35.507015</td>\n",
       "    </tr>\n",
       "    <tr>\n",
       "      <th>13</th>\n",
       "      <td>DDD</td>\n",
       "      <td>Fail</td>\n",
       "      <td>1412</td>\n",
       "      <td>6272</td>\n",
       "      <td>22.512755</td>\n",
       "    </tr>\n",
       "  </tbody>\n",
       "</table>\n",
       "</div>"
      ],
      "text/plain": [
       "   code_module final_result  code_presentation_x  code_presentation_y  \\\n",
       "2          AAA         Pass                  487                  748   \n",
       "3          AAA    Withdrawn                  126                  748   \n",
       "1          AAA         Fail                   91                  748   \n",
       "0          AAA  Distinction                   44                  748   \n",
       "6          BBB         Pass                 3077                 7909   \n",
       "7          BBB    Withdrawn                 2388                 7909   \n",
       "5          BBB         Fail                 1767                 7909   \n",
       "4          BBB  Distinction                  677                 7909   \n",
       "11         CCC    Withdrawn                 1975                 4434   \n",
       "10         CCC         Pass                 1180                 4434   \n",
       "9          CCC         Fail                  781                 4434   \n",
       "8          CCC  Distinction                  498                 4434   \n",
       "15         DDD    Withdrawn                 2250                 6272   \n",
       "14         DDD         Pass                 2227                 6272   \n",
       "13         DDD         Fail                 1412                 6272   \n",
       "\n",
       "    percent_of_total  \n",
       "2          65.106952  \n",
       "3          16.844920  \n",
       "1          12.165775  \n",
       "0           5.882353  \n",
       "6          38.905045  \n",
       "7          30.193450  \n",
       "5          22.341636  \n",
       "4           8.559869  \n",
       "11         44.542174  \n",
       "10         26.612539  \n",
       "9          17.613893  \n",
       "8          11.231394  \n",
       "15         35.873724  \n",
       "14         35.507015  \n",
       "13         22.512755  "
      ]
     },
     "execution_count": 36,
     "metadata": {},
     "output_type": "execute_result"
    }
   ],
   "source": [
    "code_module_total_percent_sort.head(15)"
   ]
  },
  {
   "cell_type": "markdown",
   "metadata": {},
   "source": [
    "### We notice from this data that the AAA module has the maximum pass rate and minimum failure rate. We also notice that CCC module has maximum withdrawl rate"
   ]
  },
  {
   "cell_type": "markdown",
   "metadata": {},
   "source": [
    "### Hence we proceed to analyze the assessment and scores data for the different modules"
   ]
  },
  {
   "cell_type": "markdown",
   "metadata": {},
   "source": [
    "### First we analyze the assignment submission data to understand when students tend to submit the assessments for different types of modules"
   ]
  },
  {
   "cell_type": "code",
   "execution_count": 38,
   "metadata": {
    "collapsed": true
   },
   "outputs": [],
   "source": [
    "#Joining student assessment and assessment data\n",
    "df_assess=pd.merge(studentAssessment_df,assessments_df,how='left',on=['id_assessment'])"
   ]
  },
  {
   "cell_type": "code",
   "execution_count": 39,
   "metadata": {
    "collapsed": true
   },
   "outputs": [],
   "source": [
    "#Joining this data with the course data\n",
    "df_assess_length=pd.merge(df_assess,courses_df,how='left',on=['code_module','code_presentation'])"
   ]
  },
  {
   "cell_type": "code",
   "execution_count": 42,
   "metadata": {
    "collapsed": true
   },
   "outputs": [],
   "source": [
    "df_assess_length.loc[df_assess_length['date'] =='?', 'date'] = df_assess_length['module_presentation_length']\n",
    "df_assess_length['date']=df_assess_length['date'].astype(int)"
   ]
  },
  {
   "cell_type": "code",
   "execution_count": 47,
   "metadata": {
    "collapsed": true
   },
   "outputs": [],
   "source": [
    "# Calculating a new column with data on number of days before or after due days that students submit assessments\n",
    "df_assess_length['submission_days']=df_assess_length['date'] - df_assess_length['date_submitted']"
   ]
  },
  {
   "cell_type": "code",
   "execution_count": 49,
   "metadata": {
    "collapsed": true
   },
   "outputs": [],
   "source": [
    "#Combining this data with student registration data to get data on students who have unregistered\n",
    "df_assess_length_quit=pd.merge(df_assess_length,studentRegistration_df,how='left',on=['code_module','code_presentation','id_student'])"
   ]
  },
  {
   "cell_type": "code",
   "execution_count": 51,
   "metadata": {
    "collapsed": true
   },
   "outputs": [],
   "source": [
    "#Filtering this data to get the data on unregistered students and calculating the average number of days before due\n",
    "df_assess_length_quit_submission=df_assess_length_quit[df_assess_length_quit['date_unregistration']!='?'].groupby(['code_module']).agg({'submission_days':'mean'})"
   ]
  },
  {
   "cell_type": "code",
   "execution_count": 52,
   "metadata": {
    "collapsed": false
   },
   "outputs": [
    {
     "data": {
      "text/html": [
       "<div>\n",
       "<style>\n",
       "    .dataframe thead tr:only-child th {\n",
       "        text-align: right;\n",
       "    }\n",
       "\n",
       "    .dataframe thead th {\n",
       "        text-align: left;\n",
       "    }\n",
       "\n",
       "    .dataframe tbody tr th {\n",
       "        vertical-align: top;\n",
       "    }\n",
       "</style>\n",
       "<table border=\"1\" class=\"dataframe\">\n",
       "  <thead>\n",
       "    <tr style=\"text-align: right;\">\n",
       "      <th></th>\n",
       "      <th>submission_days</th>\n",
       "    </tr>\n",
       "    <tr>\n",
       "      <th>code_module</th>\n",
       "      <th></th>\n",
       "    </tr>\n",
       "  </thead>\n",
       "  <tbody>\n",
       "    <tr>\n",
       "      <th>AAA</th>\n",
       "      <td>1.168182</td>\n",
       "    </tr>\n",
       "    <tr>\n",
       "      <th>BBB</th>\n",
       "      <td>0.528778</td>\n",
       "    </tr>\n",
       "    <tr>\n",
       "      <th>CCC</th>\n",
       "      <td>-1.733702</td>\n",
       "    </tr>\n",
       "    <tr>\n",
       "      <th>DDD</th>\n",
       "      <td>1.005109</td>\n",
       "    </tr>\n",
       "    <tr>\n",
       "      <th>EEE</th>\n",
       "      <td>0.277910</td>\n",
       "    </tr>\n",
       "  </tbody>\n",
       "</table>\n",
       "</div>"
      ],
      "text/plain": [
       "             submission_days\n",
       "code_module                 \n",
       "AAA                 1.168182\n",
       "BBB                 0.528778\n",
       "CCC                -1.733702\n",
       "DDD                 1.005109\n",
       "EEE                 0.277910"
      ]
     },
     "execution_count": 52,
     "metadata": {},
     "output_type": "execute_result"
    }
   ],
   "source": [
    "df_assess_length_quit_submission.head(5)"
   ]
  },
  {
   "cell_type": "markdown",
   "metadata": {},
   "source": [
    "\n",
    "* We can clearly notice from this data that for the module CCC, which has the highest withdrawl rate, students submit their assignments ~1.73 days after due date. This might denote the difficulty of assignments in the code module CCC. \n",
    "* For all other code modules, students tend to submit the assignments before due date \n",
    "\n",
    "- Note: Positive (+ve) value in submission_days denotes number of days before due date the student submits the assignment"
   ]
  },
  {
   "cell_type": "markdown",
   "metadata": {},
   "source": [
    "#### Now we analyze the scores obtained by the students"
   ]
  },
  {
   "cell_type": "code",
   "execution_count": 54,
   "metadata": {
    "collapsed": false
   },
   "outputs": [
    {
     "name": "stderr",
     "output_type": "stream",
     "text": [
      "/Users/hramakrishnan/anaconda/lib/python3.6/site-packages/ipykernel_launcher.py:2: SettingWithCopyWarning: \n",
      "A value is trying to be set on a copy of a slice from a DataFrame.\n",
      "Try using .loc[row_indexer,col_indexer] = value instead\n",
      "\n",
      "See the caveats in the documentation: http://pandas.pydata.org/pandas-docs/stable/indexing.html#indexing-view-versus-copy\n",
      "  \n"
     ]
    }
   ],
   "source": [
    "df_assess_length_quit_score=df_assess_length_quit[df_assess_length_quit['score']!='?']\n",
    "df_assess_length_quit_score['score']=df_assess_length_quit_score['score'].astype(int)"
   ]
  },
  {
   "cell_type": "code",
   "execution_count": 55,
   "metadata": {
    "collapsed": true
   },
   "outputs": [],
   "source": [
    "df_assess_length_quit_score_withdrawn=df_assess_length_quit_score[df_assess_length_quit_score['date_unregistration']!='?'].groupby('code_module').agg({'score':'mean'})"
   ]
  },
  {
   "cell_type": "code",
   "execution_count": 56,
   "metadata": {
    "collapsed": false
   },
   "outputs": [
    {
     "data": {
      "text/html": [
       "<div>\n",
       "<style>\n",
       "    .dataframe thead tr:only-child th {\n",
       "        text-align: right;\n",
       "    }\n",
       "\n",
       "    .dataframe thead th {\n",
       "        text-align: left;\n",
       "    }\n",
       "\n",
       "    .dataframe tbody tr th {\n",
       "        vertical-align: top;\n",
       "    }\n",
       "</style>\n",
       "<table border=\"1\" class=\"dataframe\">\n",
       "  <thead>\n",
       "    <tr style=\"text-align: right;\">\n",
       "      <th></th>\n",
       "      <th>score</th>\n",
       "    </tr>\n",
       "    <tr>\n",
       "      <th>code_module</th>\n",
       "      <th></th>\n",
       "    </tr>\n",
       "  </thead>\n",
       "  <tbody>\n",
       "    <tr>\n",
       "      <th>AAA</th>\n",
       "      <td>64.353211</td>\n",
       "    </tr>\n",
       "    <tr>\n",
       "      <th>BBB</th>\n",
       "      <td>70.493269</td>\n",
       "    </tr>\n",
       "    <tr>\n",
       "      <th>CCC</th>\n",
       "      <td>58.631579</td>\n",
       "    </tr>\n",
       "    <tr>\n",
       "      <th>DDD</th>\n",
       "      <td>61.097658</td>\n",
       "    </tr>\n",
       "    <tr>\n",
       "      <th>EEE</th>\n",
       "      <td>74.542857</td>\n",
       "    </tr>\n",
       "    <tr>\n",
       "      <th>FFF</th>\n",
       "      <td>71.794309</td>\n",
       "    </tr>\n",
       "    <tr>\n",
       "      <th>GGG</th>\n",
       "      <td>74.832090</td>\n",
       "    </tr>\n",
       "  </tbody>\n",
       "</table>\n",
       "</div>"
      ],
      "text/plain": [
       "                 score\n",
       "code_module           \n",
       "AAA          64.353211\n",
       "BBB          70.493269\n",
       "CCC          58.631579\n",
       "DDD          61.097658\n",
       "EEE          74.542857\n",
       "FFF          71.794309\n",
       "GGG          74.832090"
      ]
     },
     "execution_count": 56,
     "metadata": {},
     "output_type": "execute_result"
    }
   ],
   "source": [
    "df_assess_length_quit_score_withdrawn.head(7)"
   ]
  },
  {
   "cell_type": "markdown",
   "metadata": {},
   "source": [
    "* Looking at the scores obtained by the withdrawn students in the various modules, we can find that the withdrawn students tend be scoring the least. "
   ]
  },
  {
   "cell_type": "code",
   "execution_count": 60,
   "metadata": {
    "collapsed": true
   },
   "outputs": [],
   "source": [
    "studentvle_df['date-bins'] = pd.cut(studentvle_df['date'],[-30,0,50,100,150,200,250,300], labels=['-30-0','0-50','50-100','100-150','150-200','200-250','250-300'])"
   ]
  },
  {
   "cell_type": "code",
   "execution_count": 61,
   "metadata": {
    "collapsed": true
   },
   "outputs": [],
   "source": [
    "studentvle_df_info=pd.merge(studentvle_df,studentInfo_df,how='left',on=['code_module','code_presentation','id_student'])"
   ]
  },
  {
   "cell_type": "code",
   "execution_count": 62,
   "metadata": {
    "collapsed": true
   },
   "outputs": [],
   "source": [
    "studentvle_df_info_withdrawn=studentvle_df_info[studentvle_df_info['final_result']=='Withdrawn']\n",
    "studentvle_df_info_pass=studentvle_df_info[studentvle_df_info['final_result']=='Pass']"
   ]
  },
  {
   "cell_type": "code",
   "execution_count": 63,
   "metadata": {
    "collapsed": true
   },
   "outputs": [],
   "source": [
    "studentvle_df_clicks=studentvle_df_info_withdrawn.groupby(['code_module','date-bins']).agg({'id_student':'count','sum_click':'sum'}).reset_index()\n"
   ]
  },
  {
   "cell_type": "code",
   "execution_count": 64,
   "metadata": {
    "collapsed": true
   },
   "outputs": [],
   "source": [
    "studentvle_df_clicks['clicks/student']=studentvle_df_clicks['sum_click']/studentvle_df_clicks['id_student']"
   ]
  },
  {
   "cell_type": "code",
   "execution_count": 65,
   "metadata": {
    "collapsed": true
   },
   "outputs": [],
   "source": [
    "studentvle_df_clicks=studentvle_df_clicks.sort_values(['code_module','date-bins'],ascending=[True,True])"
   ]
  },
  {
   "cell_type": "code",
   "execution_count": 66,
   "metadata": {
    "collapsed": true
   },
   "outputs": [],
   "source": [
    "dict1={'-30-0':1,'0-50':2,'50-100':3,'100-150':4,'150-200':5,'200-250':6,'250-300':7}"
   ]
  },
  {
   "cell_type": "code",
   "execution_count": 67,
   "metadata": {
    "collapsed": true
   },
   "outputs": [],
   "source": [
    "#Mapping bins to a value to help sorting\n",
    "studentvle_df_clicks['sort_column']=studentvle_df_clicks['date-bins'].map(dict1)"
   ]
  },
  {
   "cell_type": "code",
   "execution_count": 68,
   "metadata": {
    "collapsed": true
   },
   "outputs": [],
   "source": [
    "studentvle_df_clicks_sort=studentvle_df_clicks.sort_values(['code_module','sort_column'],ascending=[True,True])"
   ]
  },
  {
   "cell_type": "code",
   "execution_count": 69,
   "metadata": {
    "collapsed": true
   },
   "outputs": [],
   "source": [
    "studentvle_df_clicks_sort['pct_change']=studentvle_df_clicks_sort['id_student'].pct_change()*100"
   ]
  },
  {
   "cell_type": "code",
   "execution_count": 70,
   "metadata": {
    "collapsed": true
   },
   "outputs": [],
   "source": [
    "studentvle_df_clicks_sort.loc[studentvle_df_clicks_sort['date-bins'] =='-30-0', 'pct_change']='NaN'"
   ]
  },
  {
   "cell_type": "code",
   "execution_count": 73,
   "metadata": {
    "collapsed": false
   },
   "outputs": [
    {
     "data": {
      "text/html": [
       "<div>\n",
       "<style>\n",
       "    .dataframe thead tr:only-child th {\n",
       "        text-align: right;\n",
       "    }\n",
       "\n",
       "    .dataframe thead th {\n",
       "        text-align: left;\n",
       "    }\n",
       "\n",
       "    .dataframe tbody tr th {\n",
       "        vertical-align: top;\n",
       "    }\n",
       "</style>\n",
       "<table border=\"1\" class=\"dataframe\">\n",
       "  <thead>\n",
       "    <tr style=\"text-align: right;\">\n",
       "      <th></th>\n",
       "      <th>code_module</th>\n",
       "      <th>date-bins</th>\n",
       "      <th>id_student</th>\n",
       "      <th>sum_click</th>\n",
       "      <th>clicks/student</th>\n",
       "      <th>sort_column</th>\n",
       "      <th>pct_change</th>\n",
       "    </tr>\n",
       "  </thead>\n",
       "  <tbody>\n",
       "    <tr>\n",
       "      <th>14</th>\n",
       "      <td>CCC</td>\n",
       "      <td>-30-0</td>\n",
       "      <td>22950</td>\n",
       "      <td>66772</td>\n",
       "      <td>2.909455</td>\n",
       "      <td>1</td>\n",
       "      <td>NaN</td>\n",
       "    </tr>\n",
       "    <tr>\n",
       "      <th>15</th>\n",
       "      <td>CCC</td>\n",
       "      <td>0-50</td>\n",
       "      <td>92808</td>\n",
       "      <td>353346</td>\n",
       "      <td>3.807280</td>\n",
       "      <td>2</td>\n",
       "      <td>304.392</td>\n",
       "    </tr>\n",
       "    <tr>\n",
       "      <th>19</th>\n",
       "      <td>CCC</td>\n",
       "      <td>50-100</td>\n",
       "      <td>26815</td>\n",
       "      <td>97808</td>\n",
       "      <td>3.647511</td>\n",
       "      <td>3</td>\n",
       "      <td>-71.107</td>\n",
       "    </tr>\n",
       "    <tr>\n",
       "      <th>16</th>\n",
       "      <td>CCC</td>\n",
       "      <td>100-150</td>\n",
       "      <td>16473</td>\n",
       "      <td>61240</td>\n",
       "      <td>3.717598</td>\n",
       "      <td>4</td>\n",
       "      <td>-38.568</td>\n",
       "    </tr>\n",
       "    <tr>\n",
       "      <th>17</th>\n",
       "      <td>CCC</td>\n",
       "      <td>150-200</td>\n",
       "      <td>4462</td>\n",
       "      <td>13766</td>\n",
       "      <td>3.085164</td>\n",
       "      <td>5</td>\n",
       "      <td>-72.9133</td>\n",
       "    </tr>\n",
       "    <tr>\n",
       "      <th>18</th>\n",
       "      <td>CCC</td>\n",
       "      <td>200-250</td>\n",
       "      <td>1434</td>\n",
       "      <td>8203</td>\n",
       "      <td>5.720363</td>\n",
       "      <td>6</td>\n",
       "      <td>-67.8619</td>\n",
       "    </tr>\n",
       "  </tbody>\n",
       "</table>\n",
       "</div>"
      ],
      "text/plain": [
       "   code_module date-bins  id_student  sum_click  clicks/student  sort_column  \\\n",
       "14         CCC     -30-0       22950      66772        2.909455            1   \n",
       "15         CCC      0-50       92808     353346        3.807280            2   \n",
       "19         CCC    50-100       26815      97808        3.647511            3   \n",
       "16         CCC   100-150       16473      61240        3.717598            4   \n",
       "17         CCC   150-200        4462      13766        3.085164            5   \n",
       "18         CCC   200-250        1434       8203        5.720363            6   \n",
       "\n",
       "   pct_change  \n",
       "14        NaN  \n",
       "15    304.392  \n",
       "19    -71.107  \n",
       "16    -38.568  \n",
       "17   -72.9133  \n",
       "18   -67.8619  "
      ]
     },
     "execution_count": 73,
     "metadata": {},
     "output_type": "execute_result"
    }
   ],
   "source": [
    "studentvle_df_clicks_sort[studentvle_df_clicks_sort['code_module']=='CCC']"
   ]
  },
  {
   "cell_type": "markdown",
   "metadata": {},
   "source": [
    "### From the above analysis we understand that in the course with maximum withdrawls, students are withdrawing at a high frequency at all stages of the course-presentation."
   ]
  },
  {
   "cell_type": "markdown",
   "metadata": {},
   "source": [
    "#### We want to now understand in more depth how the withdrawn and passed students fare at each of the different stages of the code presentation"
   ]
  },
  {
   "cell_type": "code",
   "execution_count": 83,
   "metadata": {
    "collapsed": true
   },
   "outputs": [],
   "source": [
    "studentAssessment_df['bin_date_submitted'] = pd.cut(studentAssessment_df['date_submitted'],[-30,0,50,100,150,200,250,300], labels=['-30-0','0-50','50-100','100-150','150-200','200-250','250-300'])\n"
   ]
  },
  {
   "cell_type": "code",
   "execution_count": 84,
   "metadata": {
    "collapsed": true
   },
   "outputs": [],
   "source": [
    "studentAssessment_df_assess=pd.merge(studentAssessment_df,assessments_df,how='left',on=['id_assessment'])"
   ]
  },
  {
   "cell_type": "code",
   "execution_count": 85,
   "metadata": {
    "collapsed": true
   },
   "outputs": [],
   "source": [
    "studentAssessment_df_assess_studentinfo=pd.merge(studentAssessment_df_assess,studentInfo_df,how='left',on=['id_student','code_module','code_presentation'])"
   ]
  },
  {
   "cell_type": "code",
   "execution_count": 86,
   "metadata": {
    "collapsed": true
   },
   "outputs": [],
   "source": [
    "#Filtering withdrawrn students and storing in this dataframe\n",
    "studentAssessment_df_assess_studentinfo_withdrawn=studentAssessment_df_assess_studentinfo[studentAssessment_df_assess_studentinfo['final_result']=='Withdrawn']"
   ]
  },
  {
   "cell_type": "code",
   "execution_count": 87,
   "metadata": {
    "collapsed": true
   },
   "outputs": [],
   "source": [
    "#Filtering all other kinds of students (other than withdrawn)\n",
    "studentAssessment_df_assess_studentinfo_others=studentAssessment_df_assess_studentinfo[studentAssessment_df_assess_studentinfo['final_result']!='Withdrawn']"
   ]
  },
  {
   "cell_type": "code",
   "execution_count": 88,
   "metadata": {
    "collapsed": false
   },
   "outputs": [
    {
     "name": "stderr",
     "output_type": "stream",
     "text": [
      "/Users/hramakrishnan/anaconda/lib/python3.6/site-packages/ipykernel_launcher.py:3: SettingWithCopyWarning: \n",
      "A value is trying to be set on a copy of a slice from a DataFrame.\n",
      "Try using .loc[row_indexer,col_indexer] = value instead\n",
      "\n",
      "See the caveats in the documentation: http://pandas.pydata.org/pandas-docs/stable/indexing.html#indexing-view-versus-copy\n",
      "  This is separate from the ipykernel package so we can avoid doing imports until\n"
     ]
    }
   ],
   "source": [
    "#Getting scores of these withdrawn students\n",
    "studentAssessment_df_assess_studentinfo_withdrawn_score=studentAssessment_df_assess_studentinfo_withdrawn[studentAssessment_df_assess_studentinfo_withdrawn['score']!='?']\n",
    "studentAssessment_df_assess_studentinfo_withdrawn_score['score']=studentAssessment_df_assess_studentinfo_withdrawn_score['score'].astype(int)"
   ]
  },
  {
   "cell_type": "code",
   "execution_count": 102,
   "metadata": {
    "collapsed": true
   },
   "outputs": [],
   "source": [
    "scores_withdrawn_grouped=studentAssessment_df_assess_studentinfo_withdrawn_score.groupby(['code_module','bin_date_submitted']).agg({'score':'mean'}).reset_index()"
   ]
  },
  {
   "cell_type": "code",
   "execution_count": 103,
   "metadata": {
    "collapsed": false
   },
   "outputs": [
    {
     "data": {
      "text/html": [
       "<div>\n",
       "<style>\n",
       "    .dataframe thead tr:only-child th {\n",
       "        text-align: right;\n",
       "    }\n",
       "\n",
       "    .dataframe thead th {\n",
       "        text-align: left;\n",
       "    }\n",
       "\n",
       "    .dataframe tbody tr th {\n",
       "        vertical-align: top;\n",
       "    }\n",
       "</style>\n",
       "<table border=\"1\" class=\"dataframe\">\n",
       "  <thead>\n",
       "    <tr style=\"text-align: right;\">\n",
       "      <th></th>\n",
       "      <th>code_module</th>\n",
       "      <th>bin_date_submitted</th>\n",
       "      <th>score</th>\n",
       "    </tr>\n",
       "  </thead>\n",
       "  <tbody>\n",
       "    <tr>\n",
       "      <th>12</th>\n",
       "      <td>CCC</td>\n",
       "      <td>-30-0</td>\n",
       "      <td>68.928571</td>\n",
       "    </tr>\n",
       "    <tr>\n",
       "      <th>13</th>\n",
       "      <td>CCC</td>\n",
       "      <td>0-50</td>\n",
       "      <td>58.669672</td>\n",
       "    </tr>\n",
       "    <tr>\n",
       "      <th>14</th>\n",
       "      <td>CCC</td>\n",
       "      <td>100-150</td>\n",
       "      <td>54.417790</td>\n",
       "    </tr>\n",
       "    <tr>\n",
       "      <th>15</th>\n",
       "      <td>CCC</td>\n",
       "      <td>150-200</td>\n",
       "      <td>47.774648</td>\n",
       "    </tr>\n",
       "    <tr>\n",
       "      <th>16</th>\n",
       "      <td>CCC</td>\n",
       "      <td>200-250</td>\n",
       "      <td>49.942857</td>\n",
       "    </tr>\n",
       "    <tr>\n",
       "      <th>17</th>\n",
       "      <td>CCC</td>\n",
       "      <td>50-100</td>\n",
       "      <td>63.183190</td>\n",
       "    </tr>\n",
       "  </tbody>\n",
       "</table>\n",
       "</div>"
      ],
      "text/plain": [
       "   code_module bin_date_submitted      score\n",
       "12         CCC              -30-0  68.928571\n",
       "13         CCC               0-50  58.669672\n",
       "14         CCC            100-150  54.417790\n",
       "15         CCC            150-200  47.774648\n",
       "16         CCC            200-250  49.942857\n",
       "17         CCC             50-100  63.183190"
      ]
     },
     "execution_count": 103,
     "metadata": {},
     "output_type": "execute_result"
    }
   ],
   "source": [
    "scores_withdrawn_grouped[scores_withdrawn_grouped['code_module']=='CCC']"
   ]
  },
  {
   "cell_type": "code",
   "execution_count": 95,
   "metadata": {
    "collapsed": false
   },
   "outputs": [
    {
     "name": "stderr",
     "output_type": "stream",
     "text": [
      "/Users/hramakrishnan/anaconda/lib/python3.6/site-packages/ipykernel_launcher.py:2: SettingWithCopyWarning: \n",
      "A value is trying to be set on a copy of a slice from a DataFrame.\n",
      "Try using .loc[row_indexer,col_indexer] = value instead\n",
      "\n",
      "See the caveats in the documentation: http://pandas.pydata.org/pandas-docs/stable/indexing.html#indexing-view-versus-copy\n",
      "  \n"
     ]
    }
   ],
   "source": [
    "studentAssessment_df_assess_studentinfo_others_score=studentAssessment_df_assess_studentinfo_others[studentAssessment_df_assess_studentinfo_others['score']!='?']\n",
    "studentAssessment_df_assess_studentinfo_others_score['score']=studentAssessment_df_assess_studentinfo_others_score['score'].astype(int)"
   ]
  },
  {
   "cell_type": "code",
   "execution_count": 99,
   "metadata": {
    "collapsed": true
   },
   "outputs": [],
   "source": [
    "scores_others_grouped=studentAssessment_df_assess_studentinfo_others_score.groupby(['code_module','bin_date_submitted']).agg({'score':'mean'}).reset_index()"
   ]
  },
  {
   "cell_type": "code",
   "execution_count": 101,
   "metadata": {
    "collapsed": false
   },
   "outputs": [
    {
     "data": {
      "text/html": [
       "<div>\n",
       "<style>\n",
       "    .dataframe thead tr:only-child th {\n",
       "        text-align: right;\n",
       "    }\n",
       "\n",
       "    .dataframe thead th {\n",
       "        text-align: left;\n",
       "    }\n",
       "\n",
       "    .dataframe tbody tr th {\n",
       "        vertical-align: top;\n",
       "    }\n",
       "</style>\n",
       "<table border=\"1\" class=\"dataframe\">\n",
       "  <thead>\n",
       "    <tr style=\"text-align: right;\">\n",
       "      <th></th>\n",
       "      <th>code_module</th>\n",
       "      <th>bin_date_submitted</th>\n",
       "      <th>score</th>\n",
       "    </tr>\n",
       "  </thead>\n",
       "  <tbody>\n",
       "    <tr>\n",
       "      <th>12</th>\n",
       "      <td>CCC</td>\n",
       "      <td>-30-0</td>\n",
       "      <td>66.747368</td>\n",
       "    </tr>\n",
       "    <tr>\n",
       "      <th>13</th>\n",
       "      <td>CCC</td>\n",
       "      <td>0-50</td>\n",
       "      <td>77.825025</td>\n",
       "    </tr>\n",
       "    <tr>\n",
       "      <th>14</th>\n",
       "      <td>CCC</td>\n",
       "      <td>100-150</td>\n",
       "      <td>76.100245</td>\n",
       "    </tr>\n",
       "    <tr>\n",
       "      <th>15</th>\n",
       "      <td>CCC</td>\n",
       "      <td>150-200</td>\n",
       "      <td>72.417644</td>\n",
       "    </tr>\n",
       "    <tr>\n",
       "      <th>16</th>\n",
       "      <td>CCC</td>\n",
       "      <td>200-250</td>\n",
       "      <td>71.226646</td>\n",
       "    </tr>\n",
       "    <tr>\n",
       "      <th>17</th>\n",
       "      <td>CCC</td>\n",
       "      <td>250-300</td>\n",
       "      <td>77.066667</td>\n",
       "    </tr>\n",
       "    <tr>\n",
       "      <th>18</th>\n",
       "      <td>CCC</td>\n",
       "      <td>50-100</td>\n",
       "      <td>82.024144</td>\n",
       "    </tr>\n",
       "  </tbody>\n",
       "</table>\n",
       "</div>"
      ],
      "text/plain": [
       "   code_module bin_date_submitted      score\n",
       "12         CCC              -30-0  66.747368\n",
       "13         CCC               0-50  77.825025\n",
       "14         CCC            100-150  76.100245\n",
       "15         CCC            150-200  72.417644\n",
       "16         CCC            200-250  71.226646\n",
       "17         CCC            250-300  77.066667\n",
       "18         CCC             50-100  82.024144"
      ]
     },
     "execution_count": 101,
     "metadata": {},
     "output_type": "execute_result"
    }
   ],
   "source": [
    "scores_others_grouped[scores_others_grouped['code_module']=='CCC']"
   ]
  },
  {
   "cell_type": "markdown",
   "metadata": {},
   "source": [
    "* Now we have determined the scores of the students at each of the bins we have created based on the dates of submission of assessments\n",
    "* We notice significant and gradual decrease in scores of students as time progresses in the course"
   ]
  },
  {
   "cell_type": "markdown",
   "metadata": {},
   "source": [
    "### Now we try to understand the correlation between user click behavior with the student attrition and score analysis above"
   ]
  },
  {
   "cell_type": "code",
   "execution_count": 107,
   "metadata": {
    "collapsed": true
   },
   "outputs": [],
   "source": [
    "# Creating histograms of user clicks for pass and withdrawn students"
   ]
  },
  {
   "cell_type": "code",
   "execution_count": 108,
   "metadata": {
    "collapsed": true
   },
   "outputs": [],
   "source": [
    "moduless=list(set(studentvle_df['code_module'].tolist()))"
   ]
  },
  {
   "cell_type": "code",
   "execution_count": 109,
   "metadata": {
    "collapsed": false
   },
   "outputs": [
    {
     "name": "stdout",
     "output_type": "stream",
     "text": [
      "['CCC', 'AAA', 'EEE', 'FFF', 'DDD', 'BBB', 'GGG']\n"
     ]
    }
   ],
   "source": [
    "print(moduless)"
   ]
  },
  {
   "cell_type": "code",
   "execution_count": 106,
   "metadata": {
    "collapsed": true
   },
   "outputs": [],
   "source": [
    "studentvle_infoo=pd.merge(studentvle_df,studentInfo_df,how='left',on=['code_module','code_presentation','id_student'])"
   ]
  },
  {
   "cell_type": "code",
   "execution_count": 111,
   "metadata": {
    "collapsed": true
   },
   "outputs": [],
   "source": [
    "#Creatig separate dataframes for passed and withdrawn students\n",
    "studentvle_infoo_withdrawn=studentvle_infoo[studentvle_infoo['final_result']=='Withdrawn']\n",
    "studentvle_infoo_else=studentvle_infoo[studentvle_infoo['final_result']!='Withdrawn']"
   ]
  },
  {
   "cell_type": "code",
   "execution_count": 116,
   "metadata": {
    "collapsed": false
   },
   "outputs": [
    {
     "data": {
      "image/png": "[encoded data removed]",
      "text/plain": [
       "<matplotlib.figure.Figure at 0x12e30ba58>"
      ]
     },
     "metadata": {},
     "output_type": "display_data"
    }
   ],
   "source": [
    "df=studentvle_infoo_withdrawn[studentvle_infoo_withdrawn['code_module']==moduless[0]]\n",
    "df['date'].plot(kind='hist',bins=20)\n",
    "plt.title('Graph of user clicks - Withdrawn students -'+moduless[0])\n",
    "plt.show()"
   ]
  },
  {
   "cell_type": "code",
   "execution_count": 118,
   "metadata": {
    "collapsed": false
   },
   "outputs": [
    {
     "data": {
      "image/png": "[encoded data removed]",
      "text/plain": [
       "<matplotlib.figure.Figure at 0x13d92ccf8>"
      ]
     },
     "metadata": {},
     "output_type": "display_data"
    }
   ],
   "source": [
    "df=studentvle_infoo_else[studentvle_infoo_else['code_module']==moduless[0]]\n",
    "df['date'].plot(kind='hist',bins=20)\n",
    "plt.title('Graph of user clicks - Passed students -'+moduless[0])\n",
    "plt.show()"
   ]
  },
  {
   "cell_type": "markdown",
   "metadata": {},
   "source": [
    "## Inference\n",
    "* Based on the analysis above, we conclude that students are finding it difficult to get good grades in the assessments, which could be the reason students start submitting the assessments after due date. They also get lower scores in the assessments\n",
    "* As their scores decrease as time progresses in the course, they are not confident and start withdrawing from the course\n",
    "* This can be also be substantiated with the decrease in clicks in the material as time progresses by students who are withdrawing in contrast to students who pass. Passed students tend to me more interactive and engaged with the online material throughout the course"
   ]
  },
  {
   "cell_type": "code",
   "execution_count": null,
   "metadata": {
    "collapsed": true
   },
   "outputs": [],
   "source": []
  },
  {
   "cell_type": "code",
   "execution_count": null,
   "metadata": {
    "collapsed": true
   },
   "outputs": [],
   "source": []
  },
  {
   "cell_type": "code",
   "execution_count": null,
   "metadata": {
    "collapsed": true
   },
   "outputs": [],
   "source": []
  },
  {
   "cell_type": "code",
   "execution_count": null,
   "metadata": {
    "collapsed": true
   },
   "outputs": [],
   "source": []
  },
  {
   "cell_type": "code",
   "execution_count": null,
   "metadata": {
    "collapsed": true
   },
   "outputs": [],
   "source": []
  },
  {
   "cell_type": "code",
   "execution_count": null,
   "metadata": {
    "collapsed": true
   },
   "outputs": [],
   "source": []
  },
  {
   "cell_type": "code",
   "execution_count": null,
   "metadata": {
    "collapsed": true
   },
   "outputs": [],
   "source": []
  },
  {
   "cell_type": "code",
   "execution_count": null,
   "metadata": {
    "collapsed": true
   },
   "outputs": [],
   "source": []
  },
  {
   "cell_type": "code",
   "execution_count": null,
   "metadata": {
    "collapsed": true
   },
   "outputs": [],
   "source": []
  }
 ],
 "metadata": {
  "kernelspec": {
   "display_name": "Python [default]",
   "language": "python",
   "name": "python3"
  },
  "language_info": {
   "codemirror_mode": {
    "name": "ipython",
    "version": 3
   },
   "file_extension": ".py",
   "mimetype": "text/x-python",
   "name": "python",
   "nbconvert_exporter": "python",
   "pygments_lexer": "ipython3",
   "version": "3.5.2"
  }
 },
 "nbformat": 4,
 "nbformat_minor": 2
}
