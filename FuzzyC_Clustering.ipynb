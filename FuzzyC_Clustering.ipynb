{
 "cells": [
  {
   "cell_type": "code",
   "execution_count": 1,
   "metadata": {
    "collapsed": false
   },
   "outputs": [
    {
     "ename": "ImportError",
     "evalue": "No module named 'skfuzzy'",
     "output_type": "error",
     "traceback": [
      "\u001b[0;31m---------------------------------------------------------------------------\u001b[0m",
      "\u001b[0;31mImportError\u001b[0m                               Traceback (most recent call last)",
      "\u001b[0;32m<ipython-input-1-b50bb7b251b9>\u001b[0m in \u001b[0;36m<module>\u001b[0;34m()\u001b[0m\n\u001b[1;32m      2\u001b[0m \u001b[1;32mfrom\u001b[0m \u001b[0m__future__\u001b[0m \u001b[1;32mimport\u001b[0m \u001b[0mdivision\u001b[0m\u001b[1;33m,\u001b[0m \u001b[0mprint_function\u001b[0m\u001b[1;33m\u001b[0m\u001b[0m\n\u001b[1;32m      3\u001b[0m \u001b[1;32mimport\u001b[0m \u001b[0mmatplotlib\u001b[0m\u001b[1;33m.\u001b[0m\u001b[0mpyplot\u001b[0m \u001b[1;32mas\u001b[0m \u001b[0mplt\u001b[0m\u001b[1;33m\u001b[0m\u001b[0m\n\u001b[0;32m----> 4\u001b[0;31m \u001b[1;32mimport\u001b[0m \u001b[0mskfuzzy\u001b[0m \u001b[1;32mas\u001b[0m \u001b[0mfuzz\u001b[0m\u001b[1;33m\u001b[0m\u001b[0m\n\u001b[0m\u001b[1;32m      5\u001b[0m \u001b[1;32mfrom\u001b[0m \u001b[0mscipy\u001b[0m \u001b[1;32mimport\u001b[0m \u001b[0mspatial\u001b[0m\u001b[1;33m\u001b[0m\u001b[0m\n\u001b[1;32m      6\u001b[0m \u001b[1;33m\u001b[0m\u001b[0m\n",
      "\u001b[0;31mImportError\u001b[0m: No module named 'skfuzzy'"
     ]
    }
   ],
   "source": [
    "import numpy as np\n",
    "from __future__ import division, print_function\n",
    "import matplotlib.pyplot as plt\n",
    "import skfuzzy as fuzz\n",
    "from scipy import spatial\n",
    "\n",
    "#table = np.loadtxt(\"E:/studies/Autumn again/ISE 5243 data mining/Fuzzy C/grades.csv\")\n",
    "#data should not have column names\n",
    "#data=table.T\n",
    "#data=np.array([1,2,3,4,5,6,7,8,9])\n",
    "data=np.array([[1,2,3,4,5,6,7,8,9],[3,4,5,6,7,8,9,10,11],[5,6,7,8,9,10,11,12,13]])"
   ]
  },
  {
   "cell_type": "code",
   "execution_count": 16,
   "metadata": {
    "collapsed": false
   },
   "outputs": [
    {
     "data": {
      "text/plain": [
       "array([1, 2, 3, 4, 5, 6, 7, 8, 9])"
      ]
     },
     "execution_count": 16,
     "metadata": {},
     "output_type": "execute_result"
    }
   ],
   "source": [
    "data[0]"
   ]
  },
  {
   "cell_type": "code",
   "execution_count": 4,
   "metadata": {
    "collapsed": false
   },
   "outputs": [
    {
     "name": "stdout",
     "output_type": "stream",
     "text": [
      "varun\n",
      "M\n",
      "mabs value  25.0 value\n",
      "varun\n",
      "      is a man\n"
     ]
    },
    {
     "data": {
      "text/plain": [
       "[5, 4, 3, 2]"
      ]
     },
     "execution_count": 4,
     "metadata": {},
     "output_type": "execute_result"
    }
   ],
   "source": [
    "#testing \n",
    "\n",
    "tuple=('varun',24,'M')\n",
    "list=['varun',24,'M']\n",
    "dict={'name':'Varun','age':24,'sex':'M'}\n",
    "tuple not in list\n",
    "\n",
    "\n",
    "for i in tuple:\n",
    "    if (i==24):\n",
    "        pass\n",
    "    else:\n",
    "        print (i)\n",
    "\n",
    "import math\n",
    "print (\"mabs value \", math.fabs(-25),\"value\")\n",
    "\n",
    "name=\"Varun\"\n",
    "name[0:2]\n",
    "sentence=\"\"\"varun\n",
    "      is a man\"\"\"\n",
    "print(sentence)\n",
    "\n",
    "para=\"varun is a man. Arjhun is a man\\nasdfasdfasdf\\nasdfas\\nasdfasdf\\nasdfasdf\\nasdgasdf\\nasdfwerf\\nasdfasefavsd\\nasdfasdffasdf\"\n",
    "\n",
    "list=[]\n",
    "\n",
    "[i for i in map(lambda x:len(x),para.splitlines())]\n",
    "    #list.append(i)\n",
    "#list\n",
    "    \n",
    "\n",
    "a=\"5 4 3 2\"\n",
    "[i for i in map(int,a.split())]\n"
   ]
  },
  {
   "cell_type": "code",
   "execution_count": 22,
   "metadata": {
    "collapsed": false
   },
   "outputs": [],
   "source": [
    "#euclidean distance function\n",
    "def dist(x,y):   \n",
    "    return np.sqrt(np.sum((x-y)**2))\n",
    "\n"
   ]
  },
  {
   "cell_type": "code",
   "execution_count": 20,
   "metadata": {
    "collapsed": false
   },
   "outputs": [
    {
     "data": {
      "text/plain": [
       "0.0"
      ]
     },
     "execution_count": 20,
     "metadata": {},
     "output_type": "execute_result"
    }
   ],
   "source": [
    "#cosine similarity\n",
    "from scipy import spatial\n",
    "\n",
    "dataSetI = [1, 1, 1, 1]\n",
    "dataSetII = [1, 1, 1, 1]\n",
    "result = spatial.distance.cosine(dataSetI, dataSetII)\n",
    "result"
   ]
  },
  {
   "cell_type": "code",
   "execution_count": 5,
   "metadata": {
    "collapsed": false
   },
   "outputs": [],
   "source": [
    "# data= data in the form of numpy array array (transposed tabular data), c=no of clusters, m=fuzzy coefficient\n",
    "# req_iter= # iterations required, tol= error tolerance\n",
    "def fuzzyc(data,c,m,req_iter,tol):\n",
    "    #Fuzzy coefficient\n",
    "    m=m\n",
    "\n",
    "    #Cluster centers\n",
    "    c=c\n",
    "\n",
    "    #length of the dataset\n",
    "    #l=len(data)\n",
    "    l=len(data[1])\n",
    "\n",
    "    # the power for the next membership funciton calc.\n",
    "    exp=2/(m-1)\n",
    "\n",
    "    #dimensions of the data\n",
    "    dim=len(data)\n",
    "\n",
    "    #no of iterations\n",
    "    req_iter=req_iter\n",
    "\n",
    "    #minimization tolerance\n",
    "    tol=tol\n",
    "\n",
    "\n",
    "    #random number generation for the initial membership matrix\n",
    "    e = np.random.random((c,l))\n",
    "    randtot=np.sum(e, axis=0)\n",
    "\n",
    "    #new Uik calc.\n",
    "    Uik=np.divide(e,randtot)\n",
    "    Uikm=(Uik)**m\n",
    "\n",
    "    # Loop for minimization function\n",
    "    iterationcnt=0\n",
    "    d=(dim,c)\n",
    "    njmin=1\n",
    "    jmin=0\n",
    "    while np.absolute(njmin-jmin)>tol and iterationcnt<req_iter:      \n",
    "        #################### Iteration a ######################\n",
    "        #center calc.\n",
    "        nvi=np.zeros(d)\n",
    "        for i in range(dim):\n",
    "            nvi[i]=np.sum(np.multiply(data[i],Uikm),axis=1)/np.sum(Uikm,axis=1)\n",
    "\n",
    "        #new membership matrix calc.\n",
    "        dataT=data.T\n",
    "        nviT=nvi.T\n",
    "        size=(c,l)\n",
    "        nUik=np.zeros(size)\n",
    "        for j in range(c):\n",
    "            for i in range(l):    \n",
    "                xk_vi_dist=dist(dataT[i],nviT[j])\n",
    "                denom=0\n",
    "                for r in range(c):\n",
    "                        xk_vr_dist=dist(dataT[i],nviT[r])\n",
    "                        ratio=(xk_vi_dist/xk_vr_dist)**exp\n",
    "                        denom=denom+ratio\n",
    "        #new Uik is calc. here           \n",
    "                nUik[j,i]=1/denom\n",
    "\n",
    "        #new Uikm is calc. here        \n",
    "        nUikm=(nUik)**m\n",
    "\n",
    "        #minimization function calc.\n",
    "        njm=np.zeros(size)\n",
    "        for j in range(c):\n",
    "            for i in range(len(data)):    \n",
    "                njm[j,i]=(dist(dataT[i],nviT[j]))**2\n",
    "\n",
    "        njmin=np.sum(np.multiply(njm,nUikm))\n",
    "\n",
    "        #################### Iteration b ######################\n",
    "        #center calc.\n",
    "        vi=np.zeros(d)\n",
    "        for i in range(dim):\n",
    "            vi[i]=np.sum(np.multiply(data[i],nUikm),axis=1)/np.sum(nUikm,axis=1)\n",
    "\n",
    "        #new membership matrix calc.\n",
    "        dataT=data.T\n",
    "        viT=vi.T\n",
    "        size=(c,l)\n",
    "        Uik=np.zeros(size)\n",
    "        for j in range(c):\n",
    "            for i in range(l):    \n",
    "                xk_vi_dist=dist(dataT[i],viT[j])\n",
    "                denom=0\n",
    "                for r in range(c):\n",
    "                        xk_vr_dist=dist(dataT[i],viT[r])\n",
    "                        ratio=(xk_vi_dist/xk_vr_dist)**exp\n",
    "                        denom=denom+ratio\n",
    "        #new Uik is calc. here           \n",
    "                Uik[j,i]=1/denom\n",
    "\n",
    "        #new Uikm is calc. here        \n",
    "        Uikm=(Uik)**m\n",
    "\n",
    "        #minimization function calc.\n",
    "        jm=np.zeros(size)\n",
    "        for j in range(c):\n",
    "            for i in range(len(data)):    \n",
    "                jm[j,i]=(dist(dataT[i],viT[j]))**2\n",
    "\n",
    "        jmin=np.sum(np.multiply(jm,Uikm))\n",
    "        iterationcnt=iterationcnt+1\n",
    "    ####################################################################################################\n",
    "\n",
    "    #this will have the final centers\n",
    "    newcenters=viT\n",
    "\n",
    "    #This will have the allocation of datapoints to centers\n",
    "    allocation=np.argmax(Uik.T,axis=1)\n",
    "    \n",
    "    #This will have SSE\n",
    "    SSE=0\n",
    "    for i in range(l):\n",
    "        SSE=SSE+dist(newcenters[allocation[i]],data.T[i])\n",
    "    \n",
    "    #This will have SST\n",
    "    SST=0\n",
    "    for i in range(l):\n",
    "        SST=SST+dist(data.T[i],np.mean(newcenters,0))\n",
    "        \n",
    "    #This will have the membership matix U\n",
    "    mem_mat=Uik.T\n",
    "    \n",
    "    #FPC : varies from (1/c to 1)\n",
    "    fpc=np.sum(Uik**2)/l\n",
    "\n",
    "    #FuPC (normalized to 0 to 1)\n",
    "    fpc_norm=(np.sum(Uik**2)/l-(1/c))/(1-(1/c))\n",
    "    \n",
    "    \n",
    "    print(\"The vectors below in the order are\")\n",
    "    print(\"Allocation,centers,SSE,SST,mem_mat\")\n",
    "    return allocation+1,newcenters,SSE,SST,mem_mat,fpc,fpc_norm\n",
    "    "
   ]
  },
  {
   "cell_type": "code",
   "execution_count": 6,
   "metadata": {
    "collapsed": false
   },
   "outputs": [],
   "source": [
    "# additionally, nclus= no of clusters from 2 to n for which fuzzy partition coefficent has to be calc.\n",
    "\n",
    "def fuzzyc_fpc(data,m,req_iter,tol,n_clus):\n",
    "\n",
    "    n_clus=n_clus\n",
    "    c=np.zeros(n_clus)\n",
    "    d=np.zeros(n_clus)\n",
    "    fpc=np.zeros(n_clus)\n",
    "    fpc_norm=np.zeros(n_clus)\n",
    "    i=0\n",
    "\n",
    "    for i in range(n_clus):\n",
    "        j=i+2\n",
    "        a,b,c[i],d[i],e,fpc[i],fpc_norm[i]=fuzzyc(data,j,m,req_iter,tol)\n",
    "    l=n_clus+2\n",
    "    fig2, ax2 = plt.subplots()\n",
    "    ax2.plot(np.r_[2:l], fpc,marker='o',linestyle='--')\n",
    "    ax2.set_xlabel(\"Number of centers\")\n",
    "    ax2.set_ylabel(\"Fuzzy partition coefficient\")\n",
    "    plt.show()"
   ]
  },
  {
   "cell_type": "code",
   "execution_count": 13,
   "metadata": {
    "collapsed": false
   },
   "outputs": [
    {
     "name": "stdout",
     "output_type": "stream",
     "text": [
      "The vectors below in the order are\n",
      "Allocation,centers,SSE,SST,mem_mat\n"
     ]
    },
    {
     "data": {
      "text/plain": [
       "(array([3, 3, 5, 6, 4, 4, 1, 2, 2], dtype=int64),\n",
       " array([[  6.93864262,   8.93864262,  10.93864262],\n",
       "        [  8.6576483 ,  10.6576483 ,  12.6576483 ],\n",
       "        [  1.1723177 ,   3.1723177 ,   5.1723177 ],\n",
       "        [  5.19495401,   7.19495401,   9.19495401],\n",
       "        [  2.83857623,   4.83857623,   6.83857623],\n",
       "        [  4.00253237,   6.00253237,   8.00253237]]),\n",
       " 5.5864068674516014,\n",
       " 34.986077842718203,\n",
       " array([[  8.29412986e-04,   4.98832085e-04,   9.85111558e-01,\n",
       "           1.66222881e-03,   8.65330336e-03,   3.24466465e-03],\n",
       "        [  1.24519099e-02,   6.85187563e-03,   4.43326649e-01,\n",
       "           2.97523962e-02,   4.31882962e-01,   7.57342070e-02],\n",
       "        [  1.61260733e-03,   7.81537621e-04,   7.48894037e-03,\n",
       "           5.19243339e-03,   9.60034477e-01,   2.48900047e-02],\n",
       "        [  7.42599050e-07,   2.95606890e-07,   8.02022793e-07,\n",
       "           4.49102587e-06,   4.75408036e-06,   9.99988915e-01],\n",
       "        [  9.52339730e-03,   2.67536800e-03,   2.44295603e-03,\n",
       "           9.41722801e-01,   7.66139001e-03,   3.59740878e-02],\n",
       "        [  3.53237834e-01,   4.40628657e-02,   1.33533549e-02,\n",
       "           4.80204660e-01,   3.11388327e-02,   7.80024519e-02],\n",
       "        [  9.96737865e-01,   1.36561959e-03,   1.10489953e-04,\n",
       "           1.15169632e-03,   2.16685893e-04,   4.17643301e-04],\n",
       "        [  2.57421487e-01,   6.70472037e-01,   6.22044523e-03,\n",
       "           3.68542949e-02,   1.08850153e-02,   1.81467212e-02],\n",
       "        [  2.63856566e-02,   9.56598125e-01,   1.82981890e-03,\n",
       "           7.74380965e-03,   2.95333241e-03,   4.48925743e-03]]),\n",
       " 0.77362391687420684,\n",
       " 0.72834870024904819)"
      ]
     },
     "execution_count": 13,
     "metadata": {},
     "output_type": "execute_result"
    }
   ],
   "source": [
    "fuzzyc(data,6,2,20,0.0001)"
   ]
  },
  {
   "cell_type": "code",
   "execution_count": 8,
   "metadata": {
    "collapsed": false
   },
   "outputs": [
    {
     "name": "stdout",
     "output_type": "stream",
     "text": [
      "The vectors below in the order are\n",
      "Allocation,centers,SSE,SST,mem_mat\n",
      "The vectors below in the order are\n",
      "Allocation,centers,SSE,SST,mem_mat\n",
      "The vectors below in the order are\n",
      "Allocation,centers,SSE,SST,mem_mat\n",
      "The vectors below in the order are\n",
      "Allocation,centers,SSE,SST,mem_mat\n"
     ]
    },
    {
     "data": {
      "image/png": "[encoded data removed]",
      "text/plain": [
       "<matplotlib.figure.Figure at 0x7fbb240>"
      ]
     },
     "metadata": {},
     "output_type": "display_data"
    }
   ],
   "source": [
    "fuzzyc_fpc(data,2,100,0.0001,4)"
   ]
  },
  {
   "cell_type": "code",
   "execution_count": 176,
   "metadata": {
    "collapsed": false
   },
   "outputs": [
    {
     "data": {
      "text/plain": [
       "0.85560240952279321"
      ]
     },
     "execution_count": 176,
     "metadata": {},
     "output_type": "execute_result"
    }
   ],
   "source": [
    "#off the shelf implementation\n",
    "cntr, u, u0, d, jm, p, fpc = fuzz.cluster.cmeans(\n",
    "        data, 2, 2, error=0.0001, maxiter=1000, init=None)\n",
    "fpc"
   ]
  }
 ],
 "metadata": {
  "anaconda-cloud": {},
  "kernelspec": {
   "display_name": "Python [conda root]",
   "language": "python",
   "name": "conda-root-py"
  },
  "language_info": {
   "codemirror_mode": {
    "name": "ipython",
    "version": 3
   },
   "file_extension": ".py",
   "mimetype": "text/x-python",
   "name": "python",
   "nbconvert_exporter": "python",
   "pygments_lexer": "ipython3",
   "version": "3.5.2"
  }
 },
 "nbformat": 4,
 "nbformat_minor": 1
}
