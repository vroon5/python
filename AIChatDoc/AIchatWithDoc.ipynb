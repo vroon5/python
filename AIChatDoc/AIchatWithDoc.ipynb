{
 "cells": [
  {
   "cell_type": "code",
   "execution_count": 1,
   "metadata": {},
   "outputs": [],
   "source": [
    "from langchain.document_loaders import TextLoader\n",
    "from langchain_community.document_loaders import PyPDFLoader\n",
    "#from gpt4all import GPT4All\n",
    "from langchain.llms import GPT4All\n",
    "from langchain.text_splitter import RecursiveCharacterTextSplitter\n",
    "from langchain.vectorstores import Chroma\n",
    "from langchain.embeddings import GPT4AllEmbeddings\n",
    "from langchain.chains import  LLMChain\n",
    "from langchain.prompts import PromptTemplate\n",
    "# from langchain.agents import TextGenerator\n",
    "#from langchain.llms import TextGen\n",
    "\n",
    "\n",
    "from langchain.embeddings import HuggingFaceEmbeddings\n",
    "from langchain.text_splitter import RecursiveCharacterTextSplitter\n",
    "from langchain.vectorstores.faiss import FAISS\n",
    "from langchain.callbacks.base import BaseCallbackManager\n",
    "from langchain.callbacks.streaming_stdout import StreamingStdOutCallbackHandler\n",
    "\n",
    "\n",
    "from langchain.chains import RetrievalQA\n",
    "from langchain.prompts import PromptTemplate\n",
    "import numpy as np\n",
    "import pandas as pd\n",
    "from langchain_community.document_loaders import DataFrameLoader\n"
   ]
  },
  {
   "cell_type": "code",
   "execution_count": 2,
   "metadata": {},
   "outputs": [],
   "source": [
    "def cosine_similarity(vec1, vec2):\n",
    "    # Compute the dot product of vec1 and vec2\n",
    "    dot_product = np.dot(vec1, vec2)\n",
    "    \n",
    "    # Compute the L2 norms (or magnitudes) of vec1 and vec2\n",
    "    norm_vec1 = np.linalg.norm(vec1)\n",
    "    norm_vec2 = np.linalg.norm(vec2)\n",
    "    \n",
    "    # Compute the cosine similarity\n",
    "    cos_sim = dot_product / (norm_vec1 * norm_vec2)\n",
    "    \n",
    "    return cos_sim"
   ]
  },
  {
   "cell_type": "markdown",
   "metadata": {},
   "source": [
    "### Load data"
   ]
  },
  {
   "cell_type": "code",
   "execution_count": 39,
   "metadata": {},
   "outputs": [],
   "source": [
    "#\"youtube_transcript_whitney.pdf\"\n",
    "# estimating_demand_with_Machine_learning # interesting_speech\n",
    "filename=\"youtube_ginger_benefits\"\n",
    "loader = PyPDFLoader(f\"\"\"data/{filename}.pdf\"\"\")\n",
    "data = loader.load_and_split()"
   ]
  },
  {
   "cell_type": "code",
   "execution_count": 4,
   "metadata": {},
   "outputs": [
    {
     "data": {
      "text/plain": [
       "\"#\\ntactiq.io\\nfree\\nyoutube\\ntranscript\\n#\\n'Cut\\nThrough\\nThe\\nPolitical\\nBS':\\nVivek\\nRamaswamy\\nSpeaks\\nTo\\nCalifornia\\nRepublican\\nParty\\nIn\\nAnaheim,\\nCA\\n#\\nhttps://www.youtube.com/watch/r8sUxBSHKJI\\n00:00:00.359\\nin\\nthe\\nthank\\nyou\\nit's\\ngood\\nto\\nbe\\nhere\\n00:00:01.839\\neverybody\\nI\\n00:00:04.160\\nuh\\nI'm\\ngoing\\nto\\nget\\nright\\ninto\\n00:00:07.000\\nit\\nbecause\\nI\\ndon't\\nthink\\nwe\\nhave\\na\\nlot\\n00:00:09.240\\nof\\ntime\\nI\\ndon't\\nmean\\ntime\\ntoday\\nin\\nthe\\n00:00:12.559\\nschedule\\nthough\\nthat\\nmay\\nbe\\ntrue\\n00:00:15.440\\ntoo\\nI\\ndon't\\nthink\\nwe're\\nworking\\nwith\\na\\n00:00:17.600\\nlot\\nof\\ntime\\nas\\na\\ncountry\\nright\\nnow\\nI\\n00:00:22.279\\ncame\\nhere\\nI\\nwas\\nwith\\nmy\\ntwo\\nsons\\nthis\\n00:00:23.720\\nmorning\\none\\nis\\nthree\\nyears\\nold\\none\\nis\\n00:00:25.720\\nOney\\nold\\nif\\nthey\\ngraduate\\nfrom\\nhigh\\n00:00:28.359\\nschool\\nbefore\\nwe've\\ngotten\\nthis\\nright\\nI\\n00:00:30.160\\ndon't\\nthink\\nwe\\nhave\\na\\ncountry\\nleft\\nand\\n00:00:32.279\\nso\\nI'm\\ngoing\\nto\\nget\\nright\\ninto\\nit\\ncut\\n00:00:33.640\\nthrough\\nthe\\npolitical\\nBS\\nand\\nlet's\\nhave\\n00:00:35.120\\na\\nreal\\nconversation\\ntoday\\nokay\\nwe're\\n00:00:37.920\\ngoing\\nto\\nget\\nreal\\ntoday\\nthis\\nis\\na\\nspeech\\n00:00:39.360\\nI\\nhaven't\\nI\\nhaven't\\ngiven\\n00:00:42.039\\nbefore\\nbut\\nlooking\\nat\\nthe\\namount\\nof\\ntime\\n00:00:45.200\\nwe\\nhave\\nleft\\nwe're\\ngoing\\nto\\ncut\\nthrough\\n00:00:46.520\\nthe\\ncut\\nthrough\\nthe\\nusual\\nintroductions\\n00:00:48.360\\nand\\nget\\ninto\\nthis\\nwe're\\nin\\nthe\\nmiddle\\nof\\n00:00:49.879\\na\\nwar\\nright\\n00:00:51.359\\nnow\\nwe\\nare\\nin\\nthe\\nmiddle\\nof\\na\\ncold\\n00:00:53.680\\ncultural\\nCivil\\nWar\\nin\\nthe\\nUnited\\nStates\\n00:00:56.359\\nand\\nyou\\ncannot\\nwin\\na\\n00:00:58.640\\nwar\\nunless\\nunless\\nyou\\nfirst\\nknow\\nthat\\n00:01:02.440\\nyou're\\nin\\none\\nthis\\nis\\nnot\\na\\nwar\\nbetween\\n00:01:05.479\\nblack\\nand\\nwhite\\nas\\nthe\\nmedia\\nwould\\nteach\\n00:01:07.280\\nyou\\nto\\nbelieve\\nit\\nis\\nnot\\na\\nwar\\nbetween\\n00:01:10.119\\nman\\nand\\nwoman\\nor\\ngay\\nand\\nstraight\\nor\\n00:01:13.200\\neven\\nDemocrat\\nand\\n00:01:16.560\\nRepublican\\nit\\nis\\na\\nwar\\nbetween\\none\\n00:01:19.439\\nside\\nwho\\nloves\\nthe\\nideals\\nof\\nthis\\n00:01:22.600\\ncountry\\nand\\nthe\\nideals\\nthat\\nset\\nthis\\n00:01:25.159\\nnation\\ninto\\nmotion\\nwho\\nbelieves\\nthat\\nall\\n00:01:27.920\\nmen\\nare\\ncreated\\nequal\\nendowed\\nby\\ntheir\\n00:01:30.079\\ncreator\\nwith\\ncertain\\ninalienable\\nrights\\n00:01:32.880\\namong\\nthese\\nlife\\nliberty\\nand\\nthe\\npursuit\""
      ]
     },
     "execution_count": 4,
     "metadata": {},
     "output_type": "execute_result"
    }
   ],
   "source": [
    "data[0].page_content"
   ]
  },
  {
   "cell_type": "markdown",
   "metadata": {},
   "source": [
    "## Load the LLM Model"
   ]
  },
  {
   "cell_type": "code",
   "execution_count": 4,
   "metadata": {},
   "outputs": [],
   "source": [
    "# get the model from https://gpt4all.io/index.html #too huge to keep in repo\n",
    "local_path = (\n",
    "    \".model/gpt4all-falcon-q4_0.gguf\"  # replace with your desired local file path\n",
    ")\n",
    "#model = GPT4All(\"mistral-7b-instruct-v0.1.Q4_0.gguf\")\n",
    "\n",
    "# Callbacks support token-wise streaming\n",
    "callbacks = [StreamingStdOutCallbackHandler()]\n",
    "\n",
    "# Verbose is required to pass to the callback manager\n",
    "model = GPT4All(model=local_path, callbacks=callbacks, verbose=True)\n"
   ]
  },
  {
   "cell_type": "code",
   "execution_count": 40,
   "metadata": {},
   "outputs": [],
   "source": [
    "# Constants: Define constants used in the code.\n",
    "CHUNK_SIZE = 1000\n",
    "CHUNK_OVERLAP = 100 # control for chunk overlap by denoting how many characters of the previous chunk comes into the next chunk (for continuity)\n",
    "\n",
    "# Create an instance of RecursiveCharacterTextSplitter with the desired chunk size and overlap\n",
    "r_splitter = RecursiveCharacterTextSplitter(\n",
    "    chunk_size=CHUNK_SIZE,\n",
    "    chunk_overlap=CHUNK_OVERLAP, \n",
    "    length_function=len  # function used to measure chunk size\n",
    ")\n",
    "\n",
    "# split documents into smaller chunks\n",
    "splits = r_splitter.split_documents(data)\n"
   ]
  },
  {
   "cell_type": "markdown",
   "metadata": {},
   "source": [
    "### Create embeddings "
   ]
  },
  {
   "cell_type": "code",
   "execution_count": 41,
   "metadata": {},
   "outputs": [
    {
     "name": "stdout",
     "output_type": "stream",
     "text": [
      "bert_load_from_file: gguf version     = 2\n",
      "bert_load_from_file: gguf alignment   = 32\n",
      "bert_load_from_file: gguf data offset = 695552\n",
      "bert_load_from_file: model name           = BERT\n",
      "bert_load_from_file: model architecture   = bert\n",
      "bert_load_from_file: model file type      = 1\n",
      "bert_load_from_file: bert tokenizer vocab = 30522\n",
      "bert_load_from_file: gguf version     = 2\n",
      "bert_load_from_file: gguf alignment   = 32\n",
      "bert_load_from_file: gguf data offset = 695552\n",
      "bert_load_from_file: model name           = BERT\n",
      "bert_load_from_file: model architecture   = bert\n",
      "bert_load_from_file: model file type      = 1\n",
      "bert_load_from_file: bert tokenizer vocab = 30522\n"
     ]
    }
   ],
   "source": [
    "\n",
    "# Use embeddings to combine the long form text into manageable token size\n",
    "gpt4all_embd = GPT4AllEmbeddings()\n",
    "vectorstore = Chroma.from_documents(documents=splits, embedding=GPT4AllEmbeddings())\n"
   ]
  },
  {
   "cell_type": "code",
   "execution_count": 42,
   "metadata": {},
   "outputs": [
    {
     "name": "stdout",
     "output_type": "stream",
     "text": [
      "bert_load_from_file: gguf version     = 2\n",
      "bert_load_from_file: gguf alignment   = 32\n",
      "bert_load_from_file: gguf data offset = 695552\n",
      "bert_load_from_file: model name           = BERT\n",
      "bert_load_from_file: model architecture   = bert\n",
      "bert_load_from_file: model file type      = 1\n",
      "bert_load_from_file: bert tokenizer vocab = 30522\n"
     ]
    }
   ],
   "source": [
    "persist_directory=f\"\"\"chroma/sds/{filename}\"\"\"\n",
    "vectorstore = Chroma.from_documents(documents=splits, embedding=GPT4AllEmbeddings(),persist_directory=persist_directory)\n",
    "vectorstore = Chroma(persist_directory=persist_directory, embedding_function=gpt4all_embd)"
   ]
  },
  {
   "cell_type": "markdown",
   "metadata": {},
   "source": [
    "### Ask your question"
   ]
  },
  {
   "cell_type": "code",
   "execution_count": 43,
   "metadata": {},
   "outputs": [],
   "source": [
    "# Additional context about the file\n",
    "inital_context=\"The file contains the youtube transcript of a video.\""
   ]
  },
  {
   "cell_type": "code",
   "execution_count": 86,
   "metadata": {},
   "outputs": [],
   "source": [
    "question = \"In the context of the video, Does eating ginger stop rainfall\"\n",
    "### what are the negative impacts of ginger, Does eating ginger prevent world war 3  #Can I consume ginger everyday\n",
    "### \"Are people of color more affected by home buying due to inflation? How does the video talk about this topic?\"\n",
    "### Summarize in 100 words on what is this video about\n",
    "#### \"Explain promo dampening to a 10 year old Kid\"\n",
    "#### Does the speaker sound like he wants the people to infiltrate"
   ]
  },
  {
   "cell_type": "markdown",
   "metadata": {},
   "source": [
    "### Find embeddings of the question"
   ]
  },
  {
   "cell_type": "code",
   "execution_count": 87,
   "metadata": {},
   "outputs": [],
   "source": [
    "\n",
    "# Find the top 5 documents relevant to the question\n",
    "docs = vectorstore.similarity_search(question, k=10)\n",
    "\n",
    "q_emb = gpt4all_embd.embed_query(question)\n",
    "q_vec = np.array(q_emb)"
   ]
  },
  {
   "cell_type": "code",
   "execution_count": 88,
   "metadata": {},
   "outputs": [
    {
     "name": "stdout",
     "output_type": "stream",
     "text": [
      "0.46848413237012815\n",
      "0.4677397978387059\n",
      "0.4631087393687268\n",
      "0.44613476899863985\n",
      "0.4325937485255695\n",
      "0.4054487087187896\n",
      "0.4035181216286784\n",
      "0.4032999918136225\n",
      "0.40096226711634103\n",
      "0.3970150987834641\n"
     ]
    }
   ],
   "source": [
    "for d in docs:\n",
    "    emb = gpt4all_embd.embed_query(d.page_content)\n",
    "    vec = np.array(emb)\n",
    "    cosine = cosine_similarity(q_vec, vec)\n",
    "    print(cosine)"
   ]
  },
  {
   "cell_type": "code",
   "execution_count": 89,
   "metadata": {},
   "outputs": [
    {
     "name": "stdout",
     "output_type": "stream",
     "text": [
      "page_content=\"00:11:01.680\\nthat\\nGinger\\nis\\ngood\\nfor\\nand\\nif\\nyou\\nadd\\n00:11:04.260\\nthis\\nseasonal\\ntreat\\nto\\nyour\\ndaily\\ndiet\\n00:11:06.000\\nyou\\nmay\\nfind\\nthat\\nit\\nrelieves\\na\\nnumber\\n00:11:07.920\\nof\\nsymptoms\\nand\\ndiscomfort\\nby\\ncovering\\n00:11:10.440\\nall\\nthe\\nbases\\nGinger\\nis\\na\\nversatile\\n00:11:12.420\\nremedy\\nthat\\nbelongs\\nin\\nevery\\nhealth\\n00:11:14.220\\nconscious\\nperson's\\nkitchen\\nmore\\nthan\\n00:11:16.740\\nthat\\nit\\nhas\\nanti-inflammatory\\nproperties\\n00:11:18.600\\nso\\nit's\\nan\\nexcellent\\naddition\\nto\\ndieters\\n00:11:20.940\\ntoolkits\\nenjoyed\\nthis\\nvideo\\nhit\\nthe\\nlike\\n00:11:24.240\\nbutton\\nto\\nsubscribe\\nto\\nour\\nchannel\\nfor\\n00:11:26.579\\nmore\\ninformative\\nvideos\\nlike\\nthis\\none\\n00:11:28.680\\nthanks\\nfor\\nwatching\\nyour\\nWellness\\nis\\nour\\n00:11:32.040\\nmission\\n00:11:34.260\\nforeign\\n00:11:35.480\\n[Music]\" metadata={'page': 6, 'source': 'youtube_ginger_benefits.pdf'}\n",
      "page_content='prevention\\nresearch\\nscientists\\nexamined\\n00:05:03.120\\nthe\\neffects\\nof\\nginger\\non\\nmice\\nwith\\n00:05:04.860\\nbreast\\ncancer\\nthey\\nfound\\nthat\\nGinger\\n00:05:07.139\\nextract\\nreduced\\nthe\\ngrowth\\nof\\ntumors\\nby\\n00:05:10.020\\nabout\\n50\\npercent\\nand\\nsignificantly\\n00:05:12.360\\nreduced\\ntheir\\nsize\\n00:05:14.460\\nthe\\nresearchers\\nthen\\nlooked\\nat\\nhuman\\n00:05:16.320\\nbreast\\ncancer\\ncells\\nin\\na\\nPetri\\ndish\\nand\\n00:05:18.960\\nfound\\nthat\\nthey\\nwere\\nless\\nlikely\\nto\\n00:05:20.400\\nspread\\ntheir\\ntentacles\\nwhen\\nexposed\\nto\\n00:05:22.620\\nGinger\\nextract\\nthis\\nsuggests\\nthat\\nGinger\\n00:05:25.440\\ncould\\nbe\\nan\\neffective\\ntreatment\\nfor' metadata={'page': 2, 'source': 'youtube_ginger_benefits.pdf'}\n",
      "page_content=\"health\\nbenefits\\nof\\neating\\nginger\\nbefore\\n00:00:43.800\\nwe\\nproceed\\nplease\\nnote\\nthat\\neverything\\n00:00:45.660\\nmentioned\\nin\\nthis\\nvideo\\nis\\nunbiased\\nfact\\n00:00:48.539\\nchecked\\nand\\nreviewed\\nby\\nqualified\\nhealth\\n00:00:50.579\\nprofessionals\\nwith\\nthat\\nsaid\\nlet's\\njump\\n00:00:53.340\\nin\\nand\\ntalk\\nabout\\nthe\\nnine\\nbenefits\\nof\\n00:00:55.320\\nginger\\n00:00:56.699\\nnumber\\none\\neases\\nnausea\\nginger\\nhas\\n00:01:00.120\\ntraditionally\\nbeen\\nused\\nin\\nChinese\\n00:01:01.500\\nmedicine\\nas\\na\\nmedication\\nto\\nprevent\\n00:01:03.420\\nvomiting\\nand\\nas\\na\\ndigestive\\nAid\\nit's\\n00:01:06.840\\nbelieved\\nthat\\nGinger\\nhelps\\nalleviate\\n00:01:08.820\\nnausea\\nby\\nstimulating\\nthe\\nproduction\\nof\\n00:01:10.860\\nsaliva\\nand\\ngastric\\njuices\\nin\\nthe\\nstomach\\n00:01:13.320\\nwhich\\nhelps\\ndigest\\nfood\\nmore\\nefficiently\\n00:01:16.439\\nthe\\nherb\\nmay\\nalso\\nact\\nas\\nan\\n00:01:18.860\\nanti-spasmodic\\nagent\\nwhich\\nis\\na\\n00:01:21.299\\nsubstance\\nthat\\ncontrols\\nmuscle\\nspasms\\n00:01:23.520\\nthis\\nmay\\nhelp\\nrelax\\nsmooth\\nmuscles\\n00:01:25.680\\nwithin\\nthe\\ndigestive\\ntract\\n00:01:27.600\\nGinger\\ncontains\\ncompounds\" metadata={'page': 0, 'source': 'youtube_ginger_benefits.pdf'}\n",
      "page_content='relax\\nsmooth\\nmuscles\\n00:01:25.680\\nwithin\\nthe\\ndigestive\\ntract\\n00:01:27.600\\nGinger\\ncontains\\ncompounds\\ncalled\\n00:01:29.820\\ngingerols\\nshow\\nGalls\\nzingerons\\nand\\nother\\n00:01:33.479\\naromatic\\noils\\nthat\\nare\\nthought\\nto\\nbe\\n00:01:35.520\\nresponsible\\nfor\\ntheir\\nanti-nausea\\n00:01:37.500\\nproperties\\nthis\\nspice\\nhas\\nalso\\nbeen\\n00:01:40.200\\nfound\\nto\\nhave\\nanti-inflammatory\\neffects\\n00:01:42.299\\nin\\nthe\\ngastrointestinal\\ntract\\nwhich\\nmay\\n00:01:45.060\\nbe\\nanother\\nreason\\nwhy\\nit\\ncan\\nhelp\\nwith' metadata={'page': 0, 'source': 'youtube_ginger_benefits.pdf'}\n",
      "page_content=\"#\\ntactiq.io\\nfree\\nyoutube\\ntranscript\\n#\\nWhat\\nHappens\\nTo\\nYour\\nBody\\nWhen\\nYou\\nEat\\nGinger\\nEveryday\\n#\\nhttps://www.youtube.com/watch/bWj4ImKTjgQ\\n00:00:00.000\\nall\\nright\\n00:00:00.590\\n[Music]\\n00:00:05.540\\nwhat\\nhappens\\nto\\nyour\\nbody\\nwhen\\nyou\\neat\\n00:00:08.160\\nginger\\nevery\\nday\\n00:00:10.320\\nGinger\\nis\\na\\nspice\\nthat\\nhas\\nbeen\\nused\\nfor\\n00:00:12.960\\nover\\n4\\n000\\nyears\\nit's\\na\\nvery\\npowerful\\n00:00:15.960\\nherb\\nthat\\nhelps\\nto\\ntreat\\nor\\nprevent\\nmany\\n00:00:18.180\\ntypes\\nof\\ndiseases\\nthis\\npopular\\nspice\\nwas\\n00:00:21.359\\noriginally\\nfound\\nin\\nboth\\nIndian\\nCuisine\\n00:00:23.460\\nand\\ntraditional\\nChinese\\nmedicine\\nthe\\n00:00:26.340\\ndistinctive\\ntaste\\nof\\nginger\\nis\\nproduced\\n00:00:28.260\\nby\\nits\\nactive\\ningredient\\ngingerol\\nwhich\\n00:00:31.140\\nshows\\nantibacterial\\nand\\nantioxidant\\n00:00:33.660\\nproperties\\nin\\naddition\\nto\\naffecting\\nyour\\n00:00:36.239\\ntaste\\nbuds\\nGinger\\naffects\\nnumerous\\nother\\n00:00:38.579\\nbodily\\nfunctions\\nhere\\nare\\na\\nfew\\nnotable\\n00:00:41.160\\nhealth\\nbenefits\\nof\\neating\\nginger\\nbefore\\n00:00:43.800\\nwe\\nproceed\\nplease\\nnote\\nthat\\neverything\" metadata={'page': 0, 'source': 'youtube_ginger_benefits.pdf'}\n",
      "page_content='on\\na\\ndaily\\n00:08:44.459\\nbasis\\nthe\\nginger\\nall\\nfound\\nin\\nginger\\n00:08:47.160\\nhelps\\nto\\nrelax\\nmuscles\\nin\\nthe\\nAirways\\nof\\n00:08:49.440\\nthe\\nlungs\\nthis\\nhelps\\nreduce\\nswelling\\nand\\n00:08:52.380\\nmakes\\nit\\neasier\\nfor\\nyou\\nto\\nbreathe\\nit\\n00:08:54.720\\nalso\\nreduces\\nmucus\\nproduction\\nin\\nyour\\n00:08:56.820\\nlungs\\nwhich\\nmakes\\nit\\neasier\\nto\\ncough\\nup\\n00:08:58.860\\nsputum\\nif\\nyou\\nhave\\ntrouble\\nbreathing\\ntry\\n00:09:01.740\\njuicing\\ntwo\\nto\\nthree\\ninches\\nof\\nfresh\\n00:09:03.540\\nginger\\nroot\\nand\\ndrink\\nit\\nas\\nsoon\\nas\\n00:09:05.220\\npossible\\nyou\\ncan\\nalso\\nmake\\ntea\\nwith\\n00:09:07.560\\nfresh\\nginger\\nroot\\nby\\nputting\\none' metadata={'page': 4, 'source': 'youtube_ginger_benefits.pdf'}\n",
      "page_content='00:01:46.979\\nnausea\\nto\\nget\\nrid\\nof\\nnausea\\ntry\\ndrinking\\n00:01:50.220\\nginger\\ntea\\nginger\\ntea\\ncan\\nbe\\nprepared\\nby\\n00:01:53.340\\nadding\\none\\nteaspoon\\nof\\ngrated\\nfresh\\n00:01:55.380\\nginger\\nroot\\nto\\none\\ncup\\nof\\nboiling\\nwater\\n00:01:57.600\\nlet\\nit\\ncool\\nfor\\n10\\nminutes\\nbefore\\n00:01:59.880\\ndrinking\\nyou\\ncan\\ndrink\\nthis\\nremedy\\ntwo\\n00:02:02.640\\nor\\nthree\\ntimes\\na\\nday\\nwhen\\nexperiencing\\n00:02:04.560\\nmild\\nnausea\\nor\\nvomiting\\nassociated\\nwith\\n00:02:07.380\\npregnancy\\nor\\nmotion\\nsickness\\nIf\\nyou\\n00:02:10.080\\nexperience\\nsevere\\nnausea\\nor\\nvomiting\\nsee\\n00:02:12.239\\nyour\\ndoctor\\nimmediately\\nthey\\ncan\\n00:02:14.160\\nrecommend\\nthe\\nbest\\ntreatment\\noption\\nfor\\n00:02:15.900\\nyour\\nsituation\\n00:02:17.160\\nnumber\\ntwo\\nboosts\\nthe\\nimmune\\nsystem\\n00:02:20.580\\nadding\\nGinger\\nto\\nyour\\ndiet\\ncan\\nhelp\\n00:02:22.680\\nboost\\nthe\\nimmune\\nsystem\\nby\\nincreasing\\n00:02:24.420\\ncirculation\\nthroughout\\nthe\\nbody\\nwhich\\n00:02:26.340\\nhelps\\nyour\\nbody\\nfight\\noff\\ninfections\\n00:02:28.140\\nGinger\\ncontains\\nvarious\\ncompounds\\nsuch\\n00:02:31.020\\nas\\ngingerol\\nand\\nshogol\\nwhich\\nhave\\nbeen' metadata={'page': 1, 'source': 'youtube_ginger_benefits.pdf'}\n",
      "page_content=\"Ginger\\ncontains\\nvarious\\ncompounds\\nsuch\\n00:02:31.020\\nas\\ngingerol\\nand\\nshogol\\nwhich\\nhave\\nbeen\\n00:02:33.540\\nshown\\nto\\nstimulate\\nthe\\nbody's\\nproduction\\n00:02:35.160\\nof\\nnatural\\nkiller\\ncells\\nthese\\ncells\\nare\\n00:02:38.459\\nvery\\nimportant\\nelements\\nof\\nyour\\nimmune\\n00:02:40.140\\nsystem\\ngingerol\\nhas\\nbeen\\nfound\\nto\\n00:02:42.480\\nincrease\\nthe\\nactivity\\nof\\nwhite\\nblood\\n00:02:44.220\\ncells\\nwhich\\nare\\nnecessary\\nfor\\nfighting\\n00:02:46.379\\ninfection\\nthis\\ncompound\\nalso\\nincreases\\n00:02:49.140\\nthe\\nproduction\\nof\\nmacrophages\\nwhich\\n00:02:51.420\\neliminate\\nforeign\\nand\\nharmful\\nsubstances\\n00:02:53.459\\nfrom\\nthe\\nbody\\n00:02:54.780\\nthis\\nhelps\\nward\\noff\\nbacteria\\nviruses\\nand\\n00:02:58.200\\nother\\nInvaders\\nthat\\ncould\\ncause\\nillness\\n00:03:00.120\\nor\\ndisease\\nresearchers\\nalso\\nshowed\\nthat\\n00:03:03.599\\nshogol\\ncan\\nprevent\\ncertain\\ntypes\\nof\\n00:03:05.640\\ncells\\nfrom\\ndying\\nwhen\\nexposed\\nto\\nviruses\\n00:03:08.220\\nsuch\\nas\\ninfluenza\\nA\\nand\\nrhinoviruses\\n00:03:11.159\\nwhich\\ncause\\ncolds\\nnumber\\nthree\\nhelps\\n00:03:14.400\\nease\\nmigraines\\nginger\\nhas\\nbeen\\nused\\nas\\na\" metadata={'page': 1, 'source': 'youtube_ginger_benefits.pdf'}\n",
      "page_content=\"Ginger\\npeople\\nwho\\nhave\\ngallstones\\nshould\\n00:10:38.640\\navoid\\nusing\\nGinger\\nbecause\\nit\\ncan\\nworsen\\n00:10:41.160\\nsymptoms\\nit's\\nimportant\\nto\\ntalk\\nwith\\n00:10:43.560\\nyour\\ndoctor\\nbefore\\ntaking\\nGinger\\nif\\nyou\\n00:10:45.300\\nhave\\ndiabetes\\nor\\na\\nbleeding\\ndisorder\\n00:10:47.399\\nsuch\\nas\\nhemophilia\\nor\\nif\\nyou're\\ntaking\\n00:10:49.500\\nany\\nmedications\\nfor\\nthese\\nconditions\\n00:10:51.440\\nGinger\\nmay\\nalso\\ninteract\\nwith\\ncertain\\n00:10:53.700\\nheart\\nmedications\\nso\\ncheck\\nwith\\nyour\\n00:10:55.920\\ndoctor\\nbefore\\nadding\\nit\\nto\\nyour\\ndiet\\nif\\n00:10:57.839\\nyou're\\non\\nany\\nof\\nthese\\nmedications\\n00:10:59.880\\nas\\nyou\\ncan\\nsee\\nthere\\nare\\nmany\\nthings\" metadata={'page': 5, 'source': 'youtube_ginger_benefits.pdf'}\n",
      "page_content=\"00:03:39.540\\ncan\\nalso\\nbuy\\nGinger\\nsupplements\\nat\\nmost\\n00:03:41.640\\npharmacies\\nand\\nhealth\\nfood\\nstores\\nGinger\\n00:03:44.340\\nalso\\ncontains\\nshogao\\nwhich\\nhas\\nbeen\\n00:03:46.440\\nshown\\nto\\ndecrease\\nblood\\nflow\\nin\\nthe\\n00:03:48.180\\nbrain\\nthis\\nmay\\nhelp\\nease\\nmigraine\\npain\\n00:03:50.760\\nby\\nreducing\\nblood\\nflow\\nto\\nsensitive\\n00:03:52.680\\nareas\\nof\\nyour\\nbrain\\n00:03:54.180\\nliking\\nour\\nvideo\\nso\\nfar\\nbefore\\nwe\\nmove\\n00:03:56.700\\non\\nto\\nthe\\nnext\\nbenefit\\ndon't\\nforget\\nto\\n00:03:58.620\\nhit\\nthe\\nlike\\nbutton\\nand\\nsubscribe\\nto\\nour\\n00:04:00.780\\nchannel\\nso\\nyou\\nnever\\nmiss\\nout\\non\\nour\\nnew\\n00:04:02.819\\ninformative\\nvideos\\n00:04:04.620\\nnumber\\nfour\\nit\\nmay\\nlower\\nthe\\nrisk\\nof\\n00:04:07.440\\ncancer\\ncancer\\nis\\na\\nterrifying\\ndisease\\nit\\n00:04:10.920\\nkills\\nmore\\nthan\\nhalf\\na\\nmillion\\npeople\\n00:04:12.299\\neach\\nyear\\nin\\nthe\\nUnited\\nStates\\nalone\\nand\\n00:04:14.819\\nit\\noften\\nstrikes\\npeople\\nin\\ntheir\\nprime\\n00:04:16.560\\nyears\\nalthough\\nthere\\nare\\nmany\\nforms\\nof\\n00:04:18.899\\ncancer\\nthey\\nhave\\nall\\none\\nthing\\nin\\ncommon\\n00:04:21.238\\nthey're\\ncaused\\nby\\nuncontrolled\\ncell\" metadata={'page': 2, 'source': 'youtube_ginger_benefits.pdf'}\n"
     ]
    }
   ],
   "source": [
    "for i in docs:\n",
    "    print(i)"
   ]
  },
  {
   "cell_type": "code",
   "execution_count": 90,
   "metadata": {},
   "outputs": [],
   "source": [
    "\n",
    "# ### Create the Simple template for question and answer\n",
    "# template = \"\"\"\n",
    "# Question: {question}\n",
    "# Answer: Let's think step by step.\n",
    "# \"\"\"\n",
    "\n",
    "# prompt = PromptTemplate(template=template, input_variables=[\"question\"])\n",
    "\n",
    "# llm_chain = LLMChain(prompt=prompt, llm=model)\n"
   ]
  },
  {
   "cell_type": "code",
   "execution_count": 91,
   "metadata": {},
   "outputs": [
    {
     "name": "stdout",
     "output_type": "stream",
     "text": [
      " No, there is no evidence to suggest that eating ginger can prevent rainfall. The video discusses the potential health benefits of consuming ginger, including its anti-inflammatory and anti-nausea properties. However, it does not mention any connection between ginger consumption and rainfall."
     ]
    }
   ],
   "source": [
    "# Define a prompt template. This is a format for the text input we'll give to our model.\n",
    "# It tells the model how to structure its response and what to do in different situations.\n",
    "template = \"\"\"I will provide you pieces of [Context] to answer the [Question]. Provide answer based on the content and context provided. \\\n",
    "If you don't know the answer based on [Context] just say that you don't know, don't try to make up an answer. \\\n",
    "[Context]: {context} \\\n",
    "[Question]: {question} \\\n",
    "Helpful Answer:\"\"\"\n",
    "\n",
    "final_template=inital_context + template\n",
    "\n",
    "# If your answer includes any sort of list, return it in bullets. \\\n",
    "# Format your answer to Markdown. \\\n",
    "\n",
    "# Create a PromptTemplate object from our string template.\n",
    "QA_CHAIN_PROMPT = PromptTemplate.from_template(template)\n",
    "\n",
    "\n",
    "\n",
    "# Create a RetrievalQA object. This uses our language model (llm) and a retriever,\n",
    "# which is our vector database (vectordb). This object will handle asking our model questions\n",
    "# and retrieving relevant documents to help answer them.\n",
    "qa_chain = RetrievalQA.from_chain_type(\n",
    "    llm=model,\n",
    "    retriever=vectorstore.as_retriever(),\n",
    "    chain_type=\"stuff\",\n",
    "    return_source_documents=True,\n",
    "    chain_type_kwargs={\"prompt\": QA_CHAIN_PROMPT}\n",
    ")\n",
    "\n",
    "\n",
    "# Ask our question to the qa_chain, and store the result.\n",
    "result = qa_chain({\"query\": question})\n",
    "\n"
   ]
  },
  {
   "cell_type": "code",
   "execution_count": 92,
   "metadata": {},
   "outputs": [
    {
     "data": {
      "text/markdown": [
       "### Question: In the context of the video, Does eating ginger stop rainfall\n",
       "### No, there is no evidence to suggest that eating ginger can prevent rainfall. The video discusses the potential health benefits of consuming ginger, including its anti-inflammatory and anti-nausea properties. However, it does not mention any connection between ginger consumption and rainfall."
      ],
      "text/plain": [
       "<IPython.core.display.Markdown object>"
      ]
     },
     "metadata": {},
     "output_type": "display_data"
    }
   ],
   "source": [
    "from IPython.display import Markdown, display\n",
    "\n",
    "def print_better_text(text):\n",
    "    display(Markdown(text))\n",
    "\n",
    "# Example usage\n",
    "print_better_text(\"### Question: \"+question+\"\\n###\"+result[\"result\"])"
   ]
  },
  {
   "cell_type": "code",
   "execution_count": 29,
   "metadata": {},
   "outputs": [
    {
     "name": "stdout",
     "output_type": "stream",
     "text": [
      "['page_content=\"vacancy', 'rate”', '00:03:17.530', 'over', 'about', '70', 'years.', '00:03:18.531', \"It's\", 'the', 'percent', 'of', 'homes', 'in', 'the', 'US', '00:03:20.533', 'that', 'are', 'actually', 'for', 'sale.', '00:03:22.076', 'And', \"it's\", 'currently', 'the', 'lowest', '00:03:23.703', 'since', 'we', 'started', 'collecting', 'data.', '00:03:25.955', 'And', 'that', 'is', 'partly', 'the', 'result', 'of', 'restrictive', '“zoning', 'laws”:', '00:03:30.168', 'locally-set', 'rules,', 'all', 'across', 'the', 'US,', '00:03:32.295', 'that', 'regulate', 'thingslike', 'where', 'homes', 'can', 'and', \"can't\", 'be', 'built,', '00:03:36.299', 'how', 'many', 'units', 'a', 'building', 'can', 'have', 'in', 'it,\" metadata={\\'page\\': 1, \\'source\\': \\'median_price_vox.pdf\\'}']\n",
      "['page_content=\"00:07:18.688', 'the', '3%,', '4%,', '5%', 'zone', '--', '00:07:20.565', 'it', 'means', 'that,', 'since', 'selling', 'their', 'home', 'might', 'mean', '00:07:22.942', 'having', 'to', 'buy', 'a', 'new', 'one', 'at', 'an', 'interest', 'rate', 'up', 'here,', '00:07:27.029', 'fewer', 'people', 'are', 'selling', 'their', 'homes.', '00:07:29.490', 'It', 'helps', 'keep', 'this,', 'that', 'homeowner', 'vacancy', 'rate,', 'low.', '00:07:32.785', 'And', 'it', 'keeps', 'home', 'prices', 'high.', '00:07:36.080', 'And', 'by', 'the', 'way,', 'all', 'these', 'barriers', 'to', 'homebuying', '00:07:38.291', 'are', 'exacerbated', 'for', 'people', 'of', 'color,', 'who', 'are', 'more', 'likely', '00:07:41.878', 'to', 'be', 'denied', 'mortgage', 'loans,', 'regardless', 'of', 'income.', '00:07:45.423', 'The', 'website', 'Zillow', '00:07:46.215', 'looks', 'at', 'several', 'of', 'the', 'factors', \"we've\", 'talked', 'about,', '00:07:47.925', 'including', 'home', 'prices,', 'income,', 'mortgage', 'rates,', '00:07:50.428', 'and', 'it', 'calculates', 'the', 'monthly', 'burden', '00:07:52.513', 'on', 'the', 'average', 'new', 'homeowner.', '00:07:54.098', 'According', 'to', 'them,', 'that', 'burden', 'is', 'close', '00:07:56.851', 'to', 'the', 'highest', 'on', 'record.', '00:08:00.730', 'There', 'are', 'lots', 'more', 'factors', 'at', 'play', '00:08:03.524', 'here,', 'but', 'overall,', '00:08:04.650', 'especially', 'if', \"you're\", 'a', 'young', 'person', 'in\" metadata={\\'page\\': 4, \\'source\\': \\'median_price_vox.pdf\\'}']\n",
      "['page_content=\"just', 'requires', 'rent.', '00:00:39.873', 'But:', 'now', 'you', 'own', 'it.', '00:00:42.250', 'It', 'could', 'be', 'collateral,', 'if', 'you', 'ever', 'need', 'money,', '00:00:44.627', 'like', 'to', 'start', 'a', 'business', '00:00:45.462', 'or', 'to', 'send', 'your', 'kids', 'to', 'college...', '00:00:47.130', 'One', 'day', 'you', 'might', 'sell', 'it', 'for', 'more', 'than', 'you', 'bought', 'it...', '00:00:49.507', 'But', 'also:', 'stability.', '00:00:51.384', 'Peace', 'of', 'mind.', '00:00:53.094', '“So', 'that', 'you', 'may', 'maintain', 'your', 'place', 'in', 'society.”', '00:00:56.473', 'You', 'get', 'it.', '00:00:57.682', 'If', 'we', 'look', 'at', 'the', 'middle', '60%', '00:00:59.684', 'of', 'the', 'US', 'population', 'in', 'terms', 'of', 'wealth,the', 'middle', 'class,', '00:01:02.645', 'the', 'bulk', 'of', 'the', 'wealth', 'held', 'by', 'that', 'group', '00:01:05.230', 'is', 'made', 'up', 'of', 'the', 'homes', 'they', 'live', 'in.', '00:01:08.485', \"It's\", 'a', 'big', 'part', 'of', 'why', 'wethink', 'of', 'homeownership', '00:01:10.361', 'as', 'the', 'ticket', 'to', 'financial', 'stability', 'in', 'the', 'US:', '00:01:13.615', 'to', 'securing,', 'and', 'then', 'building,your', 'own', 'wealth.', '00:01:17.410', 'But', 'the', 'barriers', 'to', 'buying', 'a', 'home', 'in', '00:01:19.329', 'the', 'US', 'are', 'getting', 'higher.', '00:01:21.498', 'So,', 'how', 'much', 'higher,', 'exactly?', '00:01:24.125', 'And', 'if', 'you', \"can't\", 'buy', 'a', 'home,\" metadata={\\'page\\': 0, \\'source\\': \\'median_price_vox.pdf\\'}']\n",
      "['page_content=\"00:03:38.968', 'and', 'how', 'densely', 'housing', 'can', 'be', 'built.', '00:03:41.804', 'It', 'leads', 'to', 'fewer', 'homes', 'getting', 'built,', '00:03:43.598', 'which', 'leads', 'to', 'fewer', 'homes', 'to', 'buy.', '00:03:46.851', 'As', 'for', 'the', 'homes', 'that', 'are', 'for', 'sale,', '00:03:48.353', \"that's\", 'what', \"we're\", 'looking', 'at', 'here.', '00:03:50.438', 'This', 'chart', 'splits', 'all', 'homes', 'on', 'the', 'market', '00:03:52.023', 'in', 'the', 'US', 'into', 'tiers', 'by', 'price.', '00:03:53.858', 'So', 'these', 'are', 'the', 'lower', 'cost', 'homes,and', 'these', 'are', 'the', 'higher', 'cost', 'homes.', '00:03:56.653', 'And', 'it', 'tracks', 'over', 'time', '00:03:58.112', 'what', 'percentage', 'of', 'the', 'market', 'each', 'tier', 'represents.', '00:04:01.199', 'You', 'can', 'see', 'that', 'over', 'the', 'past', 'few', 'years,', 'homes', 'that', 'cost', '00:04:03.493', 'less', 'than', '$200,000', 'have', 'made', 'up', 'less', '00:04:05.954', 'and', 'less', 'of', \"what's\", 'available,', 'and', 'homes', '00:04:07.914', 'above', 'half', 'a', 'million,', 'or', 'even', '$1,000,000,', '00:04:09.999', 'are', 'representing', 'a', 'greater', '00:04:11.292', 'and', 'greater', 'share', 'of', \"what's\", 'for', 'sale.', '00:04:13.670', 'So:', 'housing', 'in', 'the', 'US', 'is', 'scarce,', 'and', \"it's\", 'expensive.', '00:04:16.755', 'But', \"we're\", 'actually', 'missing', '00:04:18.882', 'a', 'really', 'important', 'piece', 'of\" metadata={\\'page\\': 2, \\'source\\': \\'median_price_vox.pdf\\'}']\n"
     ]
    }
   ],
   "source": [
    "for i in result['source_documents']:\n",
    "    print(str(i).split('\\\\n'))"
   ]
  },
  {
   "cell_type": "code",
   "execution_count": null,
   "metadata": {},
   "outputs": [],
   "source": []
  }
 ],
 "metadata": {
  "kernelspec": {
   "display_name": "venv",
   "language": "python",
   "name": "python3"
  },
  "language_info": {
   "codemirror_mode": {
    "name": "ipython",
    "version": 3
   },
   "file_extension": ".py",
   "mimetype": "text/x-python",
   "name": "python",
   "nbconvert_exporter": "python",
   "pygments_lexer": "ipython3",
   "version": "3.9.6"
  }
 },
 "nbformat": 4,
 "nbformat_minor": 2
}
