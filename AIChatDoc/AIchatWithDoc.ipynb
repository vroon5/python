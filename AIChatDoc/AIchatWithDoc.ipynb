{
 "cells": [
  {
   "cell_type": "code",
   "execution_count": 1,
   "metadata": {},
   "outputs": [],
   "source": [
    "from langchain.document_loaders import TextLoader\n",
    "from langchain_community.document_loaders import PyPDFLoader\n",
    "#from gpt4all import GPT4All\n",
    "from langchain.llms import GPT4All\n",
    "from langchain.text_splitter import RecursiveCharacterTextSplitter\n",
    "from langchain.vectorstores import Chroma\n",
    "from langchain.embeddings import GPT4AllEmbeddings\n",
    "from langchain.chains import  LLMChain\n",
    "from langchain.prompts import PromptTemplate\n",
    "# from langchain.agents import TextGenerator\n",
    "#from langchain.llms import TextGen\n",
    "\n",
    "\n",
    "from langchain.embeddings import HuggingFaceEmbeddings\n",
    "from langchain.text_splitter import RecursiveCharacterTextSplitter\n",
    "from langchain.vectorstores.faiss import FAISS\n",
    "from langchain.callbacks.base import BaseCallbackManager\n",
    "from langchain.callbacks.streaming_stdout import StreamingStdOutCallbackHandler\n",
    "\n",
    "\n",
    "from langchain.chains import RetrievalQA\n",
    "from langchain.prompts import PromptTemplate\n",
    "import numpy as np\n"
   ]
  },
  {
   "cell_type": "code",
   "execution_count": 2,
   "metadata": {},
   "outputs": [],
   "source": [
    "def cosine_similarity(vec1, vec2):\n",
    "    # Compute the dot product of vec1 and vec2\n",
    "    dot_product = np.dot(vec1, vec2)\n",
    "    \n",
    "    # Compute the L2 norms (or magnitudes) of vec1 and vec2\n",
    "    norm_vec1 = np.linalg.norm(vec1)\n",
    "    norm_vec2 = np.linalg.norm(vec2)\n",
    "    \n",
    "    # Compute the cosine similarity\n",
    "    cos_sim = dot_product / (norm_vec1 * norm_vec2)\n",
    "    \n",
    "    return cos_sim"
   ]
  },
  {
   "cell_type": "markdown",
   "metadata": {},
   "source": [
    "### Load data"
   ]
  },
  {
   "cell_type": "code",
   "execution_count": 3,
   "metadata": {},
   "outputs": [],
   "source": [
    "## Convert raw markdown into \"document\" as prescribed by langchain\n",
    "loader = TextLoader(\"./promo.md\")\n",
    "data = loader.load()\n"
   ]
  },
  {
   "cell_type": "code",
   "execution_count": 3,
   "metadata": {},
   "outputs": [],
   "source": [
    "#\"youtube_transcript_whitney.pdf\"\n",
    "# estimating_demand_with_Machine_learning\n",
    "loader = PyPDFLoader(\"median_price_vox.pdf\")\n",
    "data = loader.load_and_split()"
   ]
  },
  {
   "cell_type": "code",
   "execution_count": 15,
   "metadata": {},
   "outputs": [
    {
     "data": {
      "text/plain": [
       "\"#\\ntactiq.io\\nfree\\nyoutube\\ntranscript\\n#\\nWhy\\nbuying\\na\\nhouse\\nin\\nthe\\nUS\\nis\\nso\\nhard\\nright\\nnow\\n#\\nhttps://www.youtube.com/watch/Exza1UYxXXM\\n00:00:01.209\\nWhen\\nyou\\nbuy\\na\\nhome\\nin\\nthe\\nUS,\\n00:00:02.877\\nthere\\nis\\na\\nbasic\\npromise:\\n00:00:04.587\\nthat\\nhome\\nvalues\\nwill\\ngo\\nup\\nover\\ntime.\\n00:00:08.383\\nAnd\\nthat\\nis\\nwhat\\nyou're\\nseeing\\non\\nthis\\nchart.\\n00:00:11.433\\nLet’s\\nadjust\\nit\\nfor\\ninflation...\\n00:00:13.555\\nok...\\n00:00:14.431\\njerkier,\\nbut\\nstill\\nbasically\\ngoes\\nup.\\n00:00:16.683\\nThe\\nstory\\ngoes\\nlike\\nthis:\\n00:00:18.351\\nMoney,\\nby\\nitself,\\nloses\\nvalue\\nover\\ntime\\n-that's\\ninflation.\\n00:00:22.647\\nBut\\nif\\nyou\\nown\\nyour\\nhome\\nin\\nthe\\nUS,\\n00:00:25.900\\nyou\\nown\\nan\\nassetthat\\nis\\nappreciating\\nin\\nvalue.\\n00:00:29.738\\nBuying\\nit\\nprobably\\nrequired\\nyouto\\nsave\\na\\nbunch\\nof\\nmoney,\\n00:00:32.406\\nand\\nalso\\nborrow\\na\\nlot\\nof\\nmoney,\\n00:00:34.200\\nwhich\\nyou\\nneed\\nto\\npay\\nback\\nover\\ntime;\\n00:00:36.036\\nas\\nopposed\\nto\\nrenting\\nyour\\nhome,\\n00:00:37.328\\nwhich\\nbasically\\njust\\nrequires\\nrent.\\n00:00:39.873\\nBut:\\nnow\\nyou\\nown\\nit.\\n00:00:42.250\\nIt\\ncould\\nbe\\ncollateral,\\nif\\nyou\\never\\nneed\\nmoney,\\n00:00:44.627\\nlike\\nto\\nstart\\na\\nbusiness\\n00:00:45.462\\nor\\nto\\nsend\\nyour\\nkids\\nto\\ncollege...\\n00:00:47.130\\nOne\\nday\\nyou\\nmight\\nsell\\nit\\nfor\\nmore\\nthan\\nyou\\nbought\\nit...\\n00:00:49.507\\nBut\\nalso:\\nstability.\\n00:00:51.384\\nPeace\\nof\\nmind.\\n00:00:53.094\\n“So\\nthat\\nyou\\nmay\\nmaintain\\nyour\\nplace\\nin\\nsociety.”\\n00:00:56.473\\nYou\\nget\\nit.\\n00:00:57.682\\nIf\\nwe\\nlook\\nat\\nthe\\nmiddle\\n60%\\n00:00:59.684\\nof\\nthe\\nUS\\npopulation\\nin\\nterms\\nof\\nwealth,the\\nmiddle\\nclass,\\n00:01:02.645\\nthe\\nbulk\\nof\\nthe\\nwealth\\nheld\\nby\\nthat\\ngroup\\n00:01:05.230\\nis\\nmade\\nup\\nof\\nthe\\nhomes\\nthey\\nlive\\nin.\\n00:01:08.485\\nIt's\\na\\nbig\\npart\\nof\\nwhy\\nwethink\\nof\\nhomeownership\\n00:01:10.361\\nas\\nthe\\nticket\\nto\\nfinancial\\nstability\\nin\\nthe\\nUS:\\n00:01:13.615\\nto\\nsecuring,\\nand\\nthen\\nbuilding,your\\nown\\nwealth.\\n00:01:17.410\\nBut\\nthe\\nbarriers\\nto\\nbuying\\na\\nhome\\nin\\n00:01:19.329\\nthe\\nUS\\nare\\ngetting\\nhigher.\\n00:01:21.498\\nSo,\\nhow\\nmuch\\nhigher,\\nexactly?\\n00:01:24.125\\nAnd\\nif\\nyou\\ncan't\\nbuy\\na\\nhome,\\n00:01:26.503\\nwhat\\ndoes\\nthat\\nmean\\nfor\\nyour\\nfuture?\\n00:01:35.470\\nSo\\nfirst,\\nlet's\\ngo\\nback\\nto\\nthe\\nmedian\\nUS\\n00:01:37.514\\nhousing\\nprice\\nover\\nthe\\npast\\n50\\nyears,\\nup\\nto\\n2022.\\n00:01:41.309\\nAnd\\nnow\\nadd\\nincome\\nonto\\nit.\""
      ]
     },
     "execution_count": 15,
     "metadata": {},
     "output_type": "execute_result"
    }
   ],
   "source": [
    "data[0].page_content"
   ]
  },
  {
   "cell_type": "markdown",
   "metadata": {},
   "source": [
    "## Load the LLM Model"
   ]
  },
  {
   "cell_type": "code",
   "execution_count": 4,
   "metadata": {},
   "outputs": [],
   "source": [
    "local_path = (\n",
    "    \"./gpt4all-falcon-q4_0.gguf\"  # replace with your desired local file path\n",
    ")\n",
    "#model = GPT4All(\"mistral-7b-instruct-v0.1.Q4_0.gguf\")\n",
    "\n",
    "# Callbacks support token-wise streaming\n",
    "callbacks = [StreamingStdOutCallbackHandler()]\n",
    "\n",
    "# Verbose is required to pass to the callback manager\n",
    "model = GPT4All(model=local_path, callbacks=callbacks, verbose=True)\n"
   ]
  },
  {
   "cell_type": "code",
   "execution_count": 5,
   "metadata": {},
   "outputs": [],
   "source": [
    "# Constants: Define constants used in the code.\n",
    "CHUNK_SIZE = 1000\n",
    "CHUNK_OVERLAP = 100 # control for chunk overlap by denoting how many characters of the previous chunk comes into the next chunk (for continuity)\n",
    "\n",
    "# Create an instance of RecursiveCharacterTextSplitter with the desired chunk size and overlap\n",
    "r_splitter = RecursiveCharacterTextSplitter(\n",
    "    chunk_size=CHUNK_SIZE,\n",
    "    chunk_overlap=CHUNK_OVERLAP, \n",
    "    length_function=len  # function used to measure chunk size\n",
    ")\n",
    "\n",
    "# split documents into smaller chunks\n",
    "splits = r_splitter.split_documents(data)\n"
   ]
  },
  {
   "cell_type": "markdown",
   "metadata": {},
   "source": [
    "### Ask your question"
   ]
  },
  {
   "cell_type": "code",
   "execution_count": 6,
   "metadata": {},
   "outputs": [],
   "source": [
    "# Additional context about the file\n",
    "inital_context=\"The file contains the youtube transcript of a video.\""
   ]
  },
  {
   "cell_type": "code",
   "execution_count": 7,
   "metadata": {},
   "outputs": [],
   "source": [
    "question = \"In the context of the video, what are the zoning laws\"\n",
    "### Summarize in 100 words on what is this video about\n",
    "#### \"Explain promo dampening to a 10 year old Kid\""
   ]
  },
  {
   "cell_type": "markdown",
   "metadata": {},
   "source": [
    "### Find embeddings of the question"
   ]
  },
  {
   "cell_type": "code",
   "execution_count": 8,
   "metadata": {},
   "outputs": [
    {
     "name": "stdout",
     "output_type": "stream",
     "text": [
      "bert_load_from_file: gguf version     = 2\n",
      "bert_load_from_file: gguf alignment   = 32\n",
      "bert_load_from_file: gguf data offset = 695552\n",
      "bert_load_from_file: model name           = BERT\n",
      "bert_load_from_file: model architecture   = bert\n",
      "bert_load_from_file: model file type      = 1\n",
      "bert_load_from_file: bert tokenizer vocab = 30522\n",
      "bert_load_from_file: gguf version     = 2\n",
      "bert_load_from_file: gguf alignment   = 32\n",
      "bert_load_from_file: gguf data offset = 695552\n",
      "bert_load_from_file: model name           = BERT\n",
      "bert_load_from_file: model architecture   = bert\n",
      "bert_load_from_file: model file type      = 1\n",
      "bert_load_from_file: bert tokenizer vocab = 30522\n"
     ]
    }
   ],
   "source": [
    "\n",
    "# Use embeddings to combine the long form text into manageable token size\n",
    "gpt4all_embd = GPT4AllEmbeddings()\n",
    "vectorstore = Chroma.from_documents(documents=splits, embedding=GPT4AllEmbeddings())\n",
    "\n",
    "# Find the top 5 documents relevant to the question\n",
    "docs = vectorstore.similarity_search(question, k=5)\n",
    "\n",
    "q_emb = gpt4all_embd.embed_query(question)\n",
    "q_vec = np.array(q_emb)"
   ]
  },
  {
   "cell_type": "code",
   "execution_count": 9,
   "metadata": {},
   "outputs": [
    {
     "name": "stdout",
     "output_type": "stream",
     "text": [
      "0.4669892037973935\n",
      "0.2834831026012385\n",
      "0.24342613192268564\n",
      "0.20228547581888004\n",
      "0.19476953453152268\n"
     ]
    }
   ],
   "source": [
    "for d in docs:\n",
    "    emb = gpt4all_embd.embed_query(d.page_content)\n",
    "    vec = np.array(emb)\n",
    "    cosine = cosine_similarity(q_vec, vec)\n",
    "    print(cosine)"
   ]
  },
  {
   "cell_type": "code",
   "execution_count": 10,
   "metadata": {},
   "outputs": [
    {
     "name": "stdout",
     "output_type": "stream",
     "text": [
      "page_content=\"vacancy\\nrate”\\n00:03:17.530\\nover\\nabout\\n70\\nyears.\\n00:03:18.531\\nIt's\\nthe\\npercent\\nof\\nhomes\\nin\\nthe\\nUS\\n00:03:20.533\\nthat\\nare\\nactually\\nfor\\nsale.\\n00:03:22.076\\nAnd\\nit's\\ncurrently\\nthe\\nlowest\\n00:03:23.703\\nsince\\nwe\\nstarted\\ncollecting\\ndata.\\n00:03:25.955\\nAnd\\nthat\\nis\\npartly\\nthe\\nresult\\nof\\nrestrictive\\n“zoning\\nlaws”:\\n00:03:30.168\\nlocally-set\\nrules,\\nall\\nacross\\nthe\\nUS,\\n00:03:32.295\\nthat\\nregulate\\nthingslike\\nwhere\\nhomes\\ncan\\nand\\ncan't\\nbe\\nbuilt,\\n00:03:36.299\\nhow\\nmany\\nunits\\na\\nbuilding\\ncan\\nhave\\nin\\nit,\" metadata={'page': 1, 'source': 'median_price_vox.pdf'}\n",
      "page_content=\"00:07:18.688\\nthe\\n3%,\\n4%,\\n5%\\nzone\\n--\\n00:07:20.565\\nit\\nmeans\\nthat,\\nsince\\nselling\\ntheir\\nhome\\nmight\\nmean\\n00:07:22.942\\nhaving\\nto\\nbuy\\na\\nnew\\none\\nat\\nan\\ninterest\\nrate\\nup\\nhere,\\n00:07:27.029\\nfewer\\npeople\\nare\\nselling\\ntheir\\nhomes.\\n00:07:29.490\\nIt\\nhelps\\nkeep\\nthis,\\nthat\\nhomeowner\\nvacancy\\nrate,\\nlow.\\n00:07:32.785\\nAnd\\nit\\nkeeps\\nhome\\nprices\\nhigh.\\n00:07:36.080\\nAnd\\nby\\nthe\\nway,\\nall\\nthese\\nbarriers\\nto\\nhomebuying\\n00:07:38.291\\nare\\nexacerbated\\nfor\\npeople\\nof\\ncolor,\\nwho\\nare\\nmore\\nlikely\\n00:07:41.878\\nto\\nbe\\ndenied\\nmortgage\\nloans,\\nregardless\\nof\\nincome.\\n00:07:45.423\\nThe\\nwebsite\\nZillow\\n00:07:46.215\\nlooks\\nat\\nseveral\\nof\\nthe\\nfactors\\nwe've\\ntalked\\nabout,\\n00:07:47.925\\nincluding\\nhome\\nprices,\\nincome,\\nmortgage\\nrates,\\n00:07:50.428\\nand\\nit\\ncalculates\\nthe\\nmonthly\\nburden\\n00:07:52.513\\non\\nthe\\naverage\\nnew\\nhomeowner.\\n00:07:54.098\\nAccording\\nto\\nthem,\\nthat\\nburden\\nis\\nclose\\n00:07:56.851\\nto\\nthe\\nhighest\\non\\nrecord.\\n00:08:00.730\\nThere\\nare\\nlots\\nmore\\nfactors\\nat\\nplay\\n00:08:03.524\\nhere,\\nbut\\noverall,\\n00:08:04.650\\nespecially\\nif\\nyou're\\na\\nyoung\\nperson\\nin\" metadata={'page': 4, 'source': 'median_price_vox.pdf'}\n",
      "page_content=\"just\\nrequires\\nrent.\\n00:00:39.873\\nBut:\\nnow\\nyou\\nown\\nit.\\n00:00:42.250\\nIt\\ncould\\nbe\\ncollateral,\\nif\\nyou\\never\\nneed\\nmoney,\\n00:00:44.627\\nlike\\nto\\nstart\\na\\nbusiness\\n00:00:45.462\\nor\\nto\\nsend\\nyour\\nkids\\nto\\ncollege...\\n00:00:47.130\\nOne\\nday\\nyou\\nmight\\nsell\\nit\\nfor\\nmore\\nthan\\nyou\\nbought\\nit...\\n00:00:49.507\\nBut\\nalso:\\nstability.\\n00:00:51.384\\nPeace\\nof\\nmind.\\n00:00:53.094\\n“So\\nthat\\nyou\\nmay\\nmaintain\\nyour\\nplace\\nin\\nsociety.”\\n00:00:56.473\\nYou\\nget\\nit.\\n00:00:57.682\\nIf\\nwe\\nlook\\nat\\nthe\\nmiddle\\n60%\\n00:00:59.684\\nof\\nthe\\nUS\\npopulation\\nin\\nterms\\nof\\nwealth,the\\nmiddle\\nclass,\\n00:01:02.645\\nthe\\nbulk\\nof\\nthe\\nwealth\\nheld\\nby\\nthat\\ngroup\\n00:01:05.230\\nis\\nmade\\nup\\nof\\nthe\\nhomes\\nthey\\nlive\\nin.\\n00:01:08.485\\nIt's\\na\\nbig\\npart\\nof\\nwhy\\nwethink\\nof\\nhomeownership\\n00:01:10.361\\nas\\nthe\\nticket\\nto\\nfinancial\\nstability\\nin\\nthe\\nUS:\\n00:01:13.615\\nto\\nsecuring,\\nand\\nthen\\nbuilding,your\\nown\\nwealth.\\n00:01:17.410\\nBut\\nthe\\nbarriers\\nto\\nbuying\\na\\nhome\\nin\\n00:01:19.329\\nthe\\nUS\\nare\\ngetting\\nhigher.\\n00:01:21.498\\nSo,\\nhow\\nmuch\\nhigher,\\nexactly?\\n00:01:24.125\\nAnd\\nif\\nyou\\ncan't\\nbuy\\na\\nhome,\" metadata={'page': 0, 'source': 'median_price_vox.pdf'}\n",
      "page_content=\"00:03:38.968\\nand\\nhow\\ndensely\\nhousing\\ncan\\nbe\\nbuilt.\\n00:03:41.804\\nIt\\nleads\\nto\\nfewer\\nhomes\\ngetting\\nbuilt,\\n00:03:43.598\\nwhich\\nleads\\nto\\nfewer\\nhomes\\nto\\nbuy.\\n00:03:46.851\\nAs\\nfor\\nthe\\nhomes\\nthat\\nare\\nfor\\nsale,\\n00:03:48.353\\nthat's\\nwhat\\nwe're\\nlooking\\nat\\nhere.\\n00:03:50.438\\nThis\\nchart\\nsplits\\nall\\nhomes\\non\\nthe\\nmarket\\n00:03:52.023\\nin\\nthe\\nUS\\ninto\\ntiers\\nby\\nprice.\\n00:03:53.858\\nSo\\nthese\\nare\\nthe\\nlower\\ncost\\nhomes,and\\nthese\\nare\\nthe\\nhigher\\ncost\\nhomes.\\n00:03:56.653\\nAnd\\nit\\ntracks\\nover\\ntime\\n00:03:58.112\\nwhat\\npercentage\\nof\\nthe\\nmarket\\neach\\ntier\\nrepresents.\\n00:04:01.199\\nYou\\ncan\\nsee\\nthat\\nover\\nthe\\npast\\nfew\\nyears,\\nhomes\\nthat\\ncost\\n00:04:03.493\\nless\\nthan\\n$200,000\\nhave\\nmade\\nup\\nless\\n00:04:05.954\\nand\\nless\\nof\\nwhat's\\navailable,\\nand\\nhomes\\n00:04:07.914\\nabove\\nhalf\\na\\nmillion,\\nor\\neven\\n$1,000,000,\\n00:04:09.999\\nare\\nrepresenting\\na\\ngreater\\n00:04:11.292\\nand\\ngreater\\nshare\\nof\\nwhat's\\nfor\\nsale.\\n00:04:13.670\\nSo:\\nhousing\\nin\\nthe\\nUS\\nis\\nscarce,\\nand\\nit's\\nexpensive.\\n00:04:16.755\\nBut\\nwe're\\nactually\\nmissing\\n00:04:18.882\\na\\nreally\\nimportant\\npiece\\nof\" metadata={'page': 2, 'source': 'median_price_vox.pdf'}\n",
      "page_content=\"#\\ntactiq.io\\nfree\\nyoutube\\ntranscript\\n#\\nWhy\\nbuying\\na\\nhouse\\nin\\nthe\\nUS\\nis\\nso\\nhard\\nright\\nnow\\n#\\nhttps://www.youtube.com/watch/Exza1UYxXXM\\n00:00:01.209\\nWhen\\nyou\\nbuy\\na\\nhome\\nin\\nthe\\nUS,\\n00:00:02.877\\nthere\\nis\\na\\nbasic\\npromise:\\n00:00:04.587\\nthat\\nhome\\nvalues\\nwill\\ngo\\nup\\nover\\ntime.\\n00:00:08.383\\nAnd\\nthat\\nis\\nwhat\\nyou're\\nseeing\\non\\nthis\\nchart.\\n00:00:11.433\\nLet’s\\nadjust\\nit\\nfor\\ninflation...\\n00:00:13.555\\nok...\\n00:00:14.431\\njerkier,\\nbut\\nstill\\nbasically\\ngoes\\nup.\\n00:00:16.683\\nThe\\nstory\\ngoes\\nlike\\nthis:\\n00:00:18.351\\nMoney,\\nby\\nitself,\\nloses\\nvalue\\nover\\ntime\\n-that's\\ninflation.\\n00:00:22.647\\nBut\\nif\\nyou\\nown\\nyour\\nhome\\nin\\nthe\\nUS,\\n00:00:25.900\\nyou\\nown\\nan\\nassetthat\\nis\\nappreciating\\nin\\nvalue.\\n00:00:29.738\\nBuying\\nit\\nprobably\\nrequired\\nyouto\\nsave\\na\\nbunch\\nof\\nmoney,\\n00:00:32.406\\nand\\nalso\\nborrow\\na\\nlot\\nof\\nmoney,\\n00:00:34.200\\nwhich\\nyou\\nneed\\nto\\npay\\nback\\nover\\ntime;\\n00:00:36.036\\nas\\nopposed\\nto\\nrenting\\nyour\\nhome,\\n00:00:37.328\\nwhich\\nbasically\\njust\\nrequires\\nrent.\\n00:00:39.873\\nBut:\\nnow\\nyou\\nown\\nit.\\n00:00:42.250\\nIt\\ncould\\nbe\\ncollateral,\\nif\\nyou\" metadata={'page': 0, 'source': 'median_price_vox.pdf'}\n"
     ]
    }
   ],
   "source": [
    "for i in docs:\n",
    "    print(i)"
   ]
  },
  {
   "cell_type": "code",
   "execution_count": 23,
   "metadata": {},
   "outputs": [],
   "source": [
    "\n",
    "# ### Create the Simple template for question and answer\n",
    "# template = \"\"\"\n",
    "# Question: {question}\n",
    "# Answer: Let's think step by step.\n",
    "# \"\"\"\n",
    "\n",
    "# prompt = PromptTemplate(template=template, input_variables=[\"question\"])\n",
    "\n",
    "# llm_chain = LLMChain(prompt=prompt, llm=model)\n"
   ]
  },
  {
   "cell_type": "code",
   "execution_count": 11,
   "metadata": {},
   "outputs": [
    {
     "name": "stdout",
     "output_type": "stream",
     "text": [
      " The video discusses how restrictive zoning laws can make it difficult for people to buy homes in the US. These laws regulate things like where homes can and cannot be built, which can lead to fewer homes being built and sold on the market. This can result in a higher cost of housing and less availability of affordable options."
     ]
    }
   ],
   "source": [
    "# Define a prompt template. This is a format for the text input we'll give to our model.\n",
    "# It tells the model how to structure its response and what to do in different situations.\n",
    "template = \"\"\"I will provide you pieces of [Context] to answer the [Question]. Provide answer based on the content and context provided. \\\n",
    "If you don't know the answer based on [Context] just say that you don't know, don't try to make up an answer. \\\n",
    "[Context]: {context} \\\n",
    "[Question]: {question} \\\n",
    "Helpful Answer:\"\"\"\n",
    "\n",
    "final_template=inital_context + template\n",
    "\n",
    "# If your answer includes any sort of list, return it in bullets. \\\n",
    "# Format your answer to Markdown. \\\n",
    "\n",
    "# Create a PromptTemplate object from our string template.\n",
    "QA_CHAIN_PROMPT = PromptTemplate.from_template(template)\n",
    "\n",
    "\n",
    "\n",
    "# Create a RetrievalQA object. This uses our language model (llm) and a retriever,\n",
    "# which is our vector database (vectordb). This object will handle asking our model questions\n",
    "# and retrieving relevant documents to help answer them.\n",
    "qa_chain = RetrievalQA.from_chain_type(\n",
    "    llm=model,\n",
    "    retriever=vectorstore.as_retriever(),\n",
    "    chain_type=\"stuff\",\n",
    "    return_source_documents=True,\n",
    "    chain_type_kwargs={\"prompt\": QA_CHAIN_PROMPT}\n",
    ")\n",
    "\n",
    "\n",
    "# Ask our question to the qa_chain, and store the result.\n",
    "result = qa_chain({\"query\": question})\n",
    "\n"
   ]
  },
  {
   "cell_type": "code",
   "execution_count": 12,
   "metadata": {},
   "outputs": [
    {
     "data": {
      "text/markdown": [
       "### Question: In the context of the video, what are the zoning laws\n",
       "### The video discusses how restrictive zoning laws can make it difficult for people to buy homes in the US. These laws regulate things like where homes can and cannot be built, which can lead to fewer homes being built and sold on the market. This can result in a higher cost of housing and less availability of affordable options."
      ],
      "text/plain": [
       "<IPython.core.display.Markdown object>"
      ]
     },
     "metadata": {},
     "output_type": "display_data"
    }
   ],
   "source": [
    "from IPython.display import Markdown, display\n",
    "\n",
    "def print_better_text(text):\n",
    "    display(Markdown(text))\n",
    "\n",
    "# Example usage\n",
    "print_better_text(\"### Question: \"+question+\"\\n###\"+result[\"result\"])"
   ]
  },
  {
   "cell_type": "code",
   "execution_count": null,
   "metadata": {},
   "outputs": [],
   "source": []
  },
  {
   "cell_type": "code",
   "execution_count": null,
   "metadata": {},
   "outputs": [],
   "source": []
  },
  {
   "cell_type": "code",
   "execution_count": null,
   "metadata": {},
   "outputs": [],
   "source": []
  }
 ],
 "metadata": {
  "kernelspec": {
   "display_name": "venv",
   "language": "python",
   "name": "python3"
  },
  "language_info": {
   "codemirror_mode": {
    "name": "ipython",
    "version": 3
   },
   "file_extension": ".py",
   "mimetype": "text/x-python",
   "name": "python",
   "nbconvert_exporter": "python",
   "pygments_lexer": "ipython3",
   "version": "3.9.6"
  }
 },
 "nbformat": 4,
 "nbformat_minor": 2
}
