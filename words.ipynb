{
 "cells": [
  {
   "cell_type": "code",
   "execution_count": 1,
   "metadata": {
    "collapsed": true
   },
   "outputs": [],
   "source": [
    "import pandas as pd"
   ]
  },
  {
   "cell_type": "code",
   "execution_count": 2,
   "metadata": {
    "collapsed": true
   },
   "outputs": [],
   "source": [
    "df=pd.read_pickle('test.pkl')"
   ]
  },
  {
   "cell_type": "code",
   "execution_count": 3,
   "metadata": {
    "collapsed": true
   },
   "outputs": [],
   "source": [
    "dict1={}"
   ]
  },
  {
   "cell_type": "code",
   "execution_count": 4,
   "metadata": {
    "collapsed": true
   },
   "outputs": [],
   "source": [
    "def func(ASIN_variable):\n",
    "    if(ASIN_variable not in dict1.keys()):\n",
    "        df_test=df[df['ASIN']==ASIN_variable]\n",
    "        test_list=df_test['salient_list'].tolist()\n",
    "        result = set(i for j in test_list for i in j)\n",
    "        list_unique=list(result)\n",
    "        dict1[ASIN_variable]=list_unique\n",
    "        return 'null'\n",
    "    else:\n",
    "        return 'null'\n",
    "        "
   ]
  },
  {
   "cell_type": "code",
   "execution_count": 5,
   "metadata": {},
   "outputs": [
    {
     "data": {
      "text/plain": [
       "188      null\n",
       "189      null\n",
       "190      null\n",
       "191      null\n",
       "192      null\n",
       "193      null\n",
       "194      null\n",
       "195      null\n",
       "196      null\n",
       "197      null\n",
       "198      null\n",
       "199      null\n",
       "200      null\n",
       "201      null\n",
       "202      null\n",
       "203      null\n",
       "204      null\n",
       "205      null\n",
       "206      null\n",
       "207      null\n",
       "208      null\n",
       "209      null\n",
       "210      null\n",
       "211      null\n",
       "212      null\n",
       "213      null\n",
       "214      null\n",
       "215      null\n",
       "216      null\n",
       "217      null\n",
       "         ... \n",
       "10197    null\n",
       "10198    null\n",
       "10199    null\n",
       "10200    null\n",
       "10201    null\n",
       "10202    null\n",
       "10203    null\n",
       "10204    null\n",
       "10205    null\n",
       "10206    null\n",
       "10207    null\n",
       "10208    null\n",
       "10209    null\n",
       "10210    null\n",
       "10211    null\n",
       "10212    null\n",
       "11838    null\n",
       "11839    null\n",
       "11840    null\n",
       "11841    null\n",
       "11842    null\n",
       "11843    null\n",
       "11844    null\n",
       "11845    null\n",
       "11846    null\n",
       "11847    null\n",
       "11848    null\n",
       "11849    null\n",
       "11850    null\n",
       "11851    null\n",
       "Length: 1816, dtype: object"
      ]
     },
     "execution_count": 5,
     "metadata": {},
     "output_type": "execute_result"
    }
   ],
   "source": [
    "df.apply(lambda row: func(row['ASIN']), axis=1)"
   ]
  },
  {
   "cell_type": "code",
   "execution_count": 7,
   "metadata": {
    "collapsed": true
   },
   "outputs": [],
   "source": [
    "s = pd.Series(dict1, name='DateValue')\n",
    "test=pd.DataFrame(s)\n",
    "test.reset_index(inplace=True)"
   ]
  },
  {
   "cell_type": "code",
   "execution_count": 8,
   "metadata": {},
   "outputs": [
    {
     "data": {
      "text/html": [
       "<div>\n",
       "<style>\n",
       "    .dataframe thead tr:only-child th {\n",
       "        text-align: right;\n",
       "    }\n",
       "\n",
       "    .dataframe thead th {\n",
       "        text-align: left;\n",
       "    }\n",
       "\n",
       "    .dataframe tbody tr th {\n",
       "        vertical-align: top;\n",
       "    }\n",
       "</style>\n",
       "<table border=\"1\" class=\"dataframe\">\n",
       "  <thead>\n",
       "    <tr style=\"text-align: right;\">\n",
       "      <th></th>\n",
       "      <th>index</th>\n",
       "      <th>DateValue</th>\n",
       "    </tr>\n",
       "  </thead>\n",
       "  <tbody>\n",
       "    <tr>\n",
       "      <th>0</th>\n",
       "      <td>B002OTXCLO</td>\n",
       "      <td>[Price, package, vendor, item, tablets, number...</td>\n",
       "    </tr>\n",
       "    <tr>\n",
       "      <th>1</th>\n",
       "      <td>B0046X8NCO</td>\n",
       "      <td>[human, tad, Allergy level, count packs, someb...</td>\n",
       "    </tr>\n",
       "    <tr>\n",
       "      <th>2</th>\n",
       "      <td>B00HQRCVB6</td>\n",
       "      <td>[everyday, flavor, honey, all, South, medicine...</td>\n",
       "    </tr>\n",
       "    <tr>\n",
       "      <th>3</th>\n",
       "      <td>B00M1QM8EM</td>\n",
       "      <td>[ears, Yes, y/o son, back, spray works, buffs,...</td>\n",
       "    </tr>\n",
       "  </tbody>\n",
       "</table>\n",
       "</div>"
      ],
      "text/plain": [
       "        index                                          DateValue\n",
       "0  B002OTXCLO  [Price, package, vendor, item, tablets, number...\n",
       "1  B0046X8NCO  [human, tad, Allergy level, count packs, someb...\n",
       "2  B00HQRCVB6  [everyday, flavor, honey, all, South, medicine...\n",
       "3  B00M1QM8EM  [ears, Yes, y/o son, back, spray works, buffs,..."
      ]
     },
     "execution_count": 8,
     "metadata": {},
     "output_type": "execute_result"
    }
   ],
   "source": [
    "test.head()"
   ]
  },
  {
   "cell_type": "markdown",
   "metadata": {},
   "source": [
    "## Instead of returning null you can return a print or return nothing! Verify if unique elements from all lists is working!"
   ]
  },
  {
   "cell_type": "code",
   "execution_count": null,
   "metadata": {
    "collapsed": true
   },
   "outputs": [],
   "source": []
  },
  {
   "cell_type": "code",
   "execution_count": null,
   "metadata": {
    "collapsed": true
   },
   "outputs": [],
   "source": []
  }
 ],
 "metadata": {
  "kernelspec": {
   "display_name": "Python 3",
   "language": "python",
   "name": "python3"
  },
  "language_info": {
   "codemirror_mode": {
    "name": "ipython",
    "version": 3
   },
   "file_extension": ".py",
   "mimetype": "text/x-python",
   "name": "python",
   "nbconvert_exporter": "python",
   "pygments_lexer": "ipython3",
   "version": "3.6.3"
  }
 },
 "nbformat": 4,
 "nbformat_minor": 2
}
