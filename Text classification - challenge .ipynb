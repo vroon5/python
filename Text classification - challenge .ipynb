{
 "cells": [
  {
   "cell_type": "code",
   "execution_count": 3,
   "metadata": {
    "collapsed": false
   },
   "outputs": [],
   "source": [
    "\n",
    "# Creating a palindromic subsequence (skips the words in between to find the 2 longest palindromes)\n",
    "\n",
    "def  funPal( s):\n",
    "    maximum=0\n",
    "    global memo \n",
    "    memo = [[-1 for i in range(len(s))] for j in range(len(s))]\n",
    "    #print(memo)\n",
    "    global string\n",
    "    string=s\n",
    "    for i in range(0,len(s)-1):\n",
    "        left = helper(0,i)\n",
    "        #print(i+1,len(s)-1)\n",
    "        right = helper(i+1,len(s)-1)\n",
    "        print(left,right)\n",
    "        maximum = max( left*right, maximum)\n",
    "      \n",
    "    return (maximum)\n",
    "    \n",
    "    \n",
    "def helper(i,j):\n",
    "\n",
    "    if (memo[i][j] == -1):\n",
    "        if (i > j):\n",
    "            memo[i][j] = 0\n",
    "            #return 0\n",
    "        elif (i == j):\n",
    "            memo[i][j] = 1\n",
    "            #return 1\n",
    "            \n",
    "        elif (string[i] == string[j]):\n",
    "            memo[i][j] = helper(i + 1, j - 1) + 2\n",
    "            #return(helper(i + 1, j - 1) + 2)\n",
    "        else:\n",
    "            memo[i][j] = max(helper(i + 1, j), helper(i, j - 1))\n",
    "            #return(max(helper(i + 1, j), helper(i, j - 1)))\n",
    "    return memo[i][j]\n"
   ]
  },
  {
   "cell_type": "code",
   "execution_count": 4,
   "metadata": {
    "collapsed": false
   },
   "outputs": [
    {
     "name": "stdout",
     "output_type": "stream",
     "text": [
      "1 4\n",
      "1 3\n",
      "1 3\n",
      "1 3\n",
      "2 3\n",
      "4 3\n",
      "6 3\n",
      "6 3\n",
      "6 2\n",
      "6 1\n"
     ]
    },
    {
     "data": {
      "text/plain": [
       "18"
      ]
     },
     "execution_count": 4,
     "metadata": {},
     "output_type": "execute_result"
    }
   ],
   "source": [
    "funPal(\"abcmmbamppp\")"
   ]
  },
  {
   "cell_type": "code",
   "execution_count": 25,
   "metadata": {
    "collapsed": true
   },
   "outputs": [],
   "source": [
    "from __future__ import print_function\n",
    "import sys\n",
    "\n",
    "def eprint(*args, **kwargs):\n",
    "    print(*args, file=sys.stderr, **kwargs)"
   ]
  },
  {
   "cell_type": "code",
   "execution_count": 26,
   "metadata": {
    "collapsed": false
   },
   "outputs": [
    {
     "name": "stdout",
     "output_type": "stream",
     "text": [
      "\n"
     ]
    }
   ],
   "source": [
    "print()"
   ]
  },
  {
   "cell_type": "code",
   "execution_count": 30,
   "metadata": {
    "collapsed": false
   },
   "outputs": [
    {
     "data": {
      "text/plain": [
       "datetime.datetime(2012, 3, 9, 0, 0)"
      ]
     },
     "execution_count": 30,
     "metadata": {},
     "output_type": "execute_result"
    }
   ],
   "source": [
    "\n",
    "from datetime import datetime\n",
    "a = datetime.strptime('2012-03-09', \"%Y-%m-%d\")\n",
    "a"
   ]
  },
  {
   "cell_type": "code",
   "execution_count": 31,
   "metadata": {
    "collapsed": true
   },
   "outputs": [],
   "source": [
    "\n",
    "#finding data type in pandas\n",
    "#print(dataf.select_dtypes(exclude=['floating']))\n",
    "# flatten a numeric array\n",
    "#print(reduce(lambda x,y: x+y, header))\n",
    "\n",
    "\n",
    "#Converting flat array into 2d array of 3 per list\n",
    "#datafin=[[header[i:i+3] for i in range(0, len(header), 3)]]\n",
    "#print(datafin)\n",
    "\n",
    "#transpose a list of list\n",
    "#print(list(map(list,zip(*ldata))))\n",
    "\n",
    "\n",
    "#from datetime import datetime\n",
    "# data format conversion : 02/31/2012 14:00:00 into python datetime format\n",
    "#print(datetime.strptime(input(), \"%m/%d/%Y %H:%M:%S\"))"
   ]
  },
  {
   "cell_type": "code",
   "execution_count": 1,
   "metadata": {
    "collapsed": false
   },
   "outputs": [
    {
     "ename": "SyntaxError",
     "evalue": "invalid token (<ipython-input-1-4d81e60c6b1a>, line 2)",
     "output_type": "error",
     "traceback": [
      "\u001b[0;36m  File \u001b[0;32m\"<ipython-input-1-4d81e60c6b1a>\"\u001b[0;36m, line \u001b[0;32m2\u001b[0m\n\u001b[0;31m    01/02/2017 14:00:00 23.23\u001b[0m\n\u001b[0m     ^\u001b[0m\n\u001b[0;31mSyntaxError\u001b[0m\u001b[0;31m:\u001b[0m invalid token\n"
     ]
    }
   ],
   "source": [
    "# 2\n",
    "# 01/02/2017 14:00:00 23.23\n",
    "# 03/06/2017 14:00:00 ab\n",
    "\n",
    "         # Enter your code here. Read input from STDIN. Print output to STDOUTprint\n",
    "import pandas as pd\n",
    "import datetime as dt\n",
    "\n",
    "size=int(input())\n",
    "ldata=[[str(n) for n in input().split()] for i in range(0,size)]\n",
    "\n",
    "dataf=pd.DataFrame(ldata,columns=['date','time','val'])\n",
    "\n",
    "dataf['date'] = pd.to_datetime(dataf['date'])\n",
    "#dataf.val=dataf.val.astype(float).fillna(0.0)\n",
    "dataf['val']=pd.to_numeric(dataf['val'], errors='coerce')\n",
    "val=dataf.isnull()\n",
    "dataf['isnull']=val['val']\n",
    "#dataf['day_of_week'] = dataf['date'].dt.weekday_name\n",
    "dataf['num_of_week'] = dataf['date'].dt.dayofweek\n",
    "print(dataf)"
   ]
  },
  {
   "cell_type": "code",
   "execution_count": null,
   "metadata": {
    "collapsed": true
   },
   "outputs": [],
   "source": [
    "#for a rolling window of any aggregation\n",
    "dataf['valmean']=dataf['val'].rolling(window=3, min_periods=1).mean()\n"
   ]
  },
  {
   "cell_type": "code",
   "execution_count": null,
   "metadata": {
    "collapsed": true
   },
   "outputs": [],
   "source": [
    "\n",
    "# Simple text classification using TF and IDF\n",
    "# training and test files can be found in D:\\studies\\Kaggle\\heavy water\n",
    "\n",
    "import re\n",
    "import numpy as np\n",
    "\n",
    "# change file location accordingly\n",
    "computer= open(\"apple-computers.txt\", \"r\")\n",
    "fruit= open(\"apple-fruit.txt\", \"r\")\n",
    "\n",
    "fruitl=fruit.read().split()\n",
    "computerl=computer.read().split()\n",
    "split_regex = r'\\W+'\n",
    "\n",
    "# map and lambda function link : http://www.python-course.eu/lambda.php\n",
    "\n",
    "def tokenize(string):\n",
    "    list=[x for x in filter(lambda s: len(s) > 0, re.split(split_regex,string.lower()))]\n",
    "    for x in list:\n",
    "        return x\n",
    "    \n",
    "# tokenize the 2 documents apple and computer\n",
    "\n",
    "fltoken=[]\n",
    "for x in fruitl:\n",
    "    fltoken.append(tokenize(x))\n",
    "    \n",
    "cltoken=[]\n",
    "for x in computerl:\n",
    "    cltoken.append(tokenize(x))\n",
    "    \n",
    "# tried to remove stop words, stem and lemmatize but the packages did not function\n",
    "    \n",
    "#from nltk.corpus import stopwords\n",
    "#filtered_word_list = cltoken[:] #make a copy of the word_list\n",
    "#for word in cltoken: # iterate over word_list\n",
    "#    if word in stopwords.words('english'): \n",
    "#        filtered_word_list.remove(word)\n",
    "#import nltk\n",
    "#from nltk.stem.porter import *\n",
    "#stemmer = PorterStemmer()\n",
    "\n",
    "#def stem(list):\n",
    "#   stemmed=[stemmer.stem(word) for word in list]\n",
    "    \n",
    "#stem(cltoken)\n",
    "\n",
    "\n",
    "#from nltk.stem import WordNetLemmatizer\n",
    "#lmtzr = WordNetLemmatizer()\n",
    "#def lemma(list):\n",
    "#    list2=[lmtzr.lemmatize(x) for x in list]\n",
    "#    return list2\n",
    "#print(lmtzr.lemmatize('cars'))\n",
    "\n",
    "from collections import Counter\n",
    "import math\n",
    "\n",
    "# TF calculation\n",
    "\n",
    "clcnt = Counter(cltoken)\n",
    "flcnt = Counter(fltoken)\n",
    "\n",
    "\n",
    "clfrq={k:1 for k in clcnt.keys()}\n",
    "flfrq={k:1 for k in flcnt.keys()}\n",
    "\n",
    "\n",
    "x=int(input())\n",
    "for i in range(x):\n",
    "    ip=list(map(str,input().split()))\n",
    "\n",
    "    iptoken=[]\n",
    "    for x in ip:\n",
    "        iptoken.append(tokenize(x))\n",
    "\n",
    "\n",
    "    ipcnt = Counter(iptoken)\n",
    "    #print(ipcnt.keys())\n",
    "    ipfrq={k:1 for k in ipcnt.keys()}\n",
    "    \n",
    "    # IDF calculation\n",
    "\n",
    "    idf={k:math.log(3/(ipfrq.get(k,0)+clfrq.get(k,0)+flfrq.get(k,0))) for k in set(clfrq) |set(flfrq)|set(ipfrq)}\n",
    "\n",
    "    iptfidf={ k: idf.get(k,0)*ipcnt.get(k, 0) for k in set(ipcnt) & set(idf) }\n",
    "    cltfidf={ k: idf.get(k,0)*clcnt.get(k, 0) for k in set(clcnt) & set(idf) }\n",
    "    fltfidf={ k: idf.get(k,0)*flcnt.get(k, 0) for k in set(flcnt) & set(idf) }\n",
    "    \n",
    "    # cosine similarity calculation\n",
    "    \n",
    "    coscldot={ k: cltfidf.get(k,0)*iptfidf.get(k, 0) for k in set(iptfidf) & set(cltfidf) }\n",
    "    cosclsq={ k: cltfidf.get(k,0)*cltfidf.get(k, 0) for k in  set(cltfidf) }\n",
    "    cosipsq={ k: iptfidf.get(k,0)*iptfidf.get(k, 0) for k in  set(iptfidf) }\n",
    "    a=math.sqrt(sum(cosclsq.values()))\n",
    "    b=math.sqrt(sum(cosipsq.values()))\n",
    "\n",
    "\n",
    "\n",
    "    cosfldot={ k: fltfidf.get(k,0)*iptfidf.get(k, 0) for k in set(iptfidf) & set(fltfidf) }\n",
    "    cosflsq={ k: fltfidf.get(k,0)*fltfidf.get(k, 0) for k in  set(fltfidf) }\n",
    "\n",
    "    c=math.sqrt(sum(cosflsq.values()))\n",
    "\n",
    "\n",
    "    computer_cosinv=sum(coscldot.values())/(a*b)\n",
    "    fruit_cosinv=sum(cosfldot.values())/(c*b)\n",
    "    \n",
    "    #topic assignment \n",
    "\n",
    "    if computer_cosinv>fruit_cosinv:\n",
    "        print('computer-company')\n",
    "    else:\n",
    "        print('fruit')\n",
    "\n",
    "\n",
    "\n"
   ]
  }
 ],
 "metadata": {
  "anaconda-cloud": {},
  "kernelspec": {
   "display_name": "Python [default]",
   "language": "python",
   "name": "python3"
  },
  "language_info": {
   "codemirror_mode": {
    "name": "ipython",
    "version": 3
   },
   "file_extension": ".py",
   "mimetype": "text/x-python",
   "name": "python",
   "nbconvert_exporter": "python",
   "pygments_lexer": "ipython3",
   "version": "3.5.2"
  }
 },
 "nbformat": 4,
 "nbformat_minor": 1
}
